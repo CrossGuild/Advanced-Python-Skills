{
 "cells": [
  {
   "cell_type": "code",
   "execution_count": 1,
   "id": "7870b1b9-07b4-4ba4-b7a0-f9f1df42918d",
   "metadata": {},
   "outputs": [],
   "source": [
    "import random"
   ]
  },
  {
   "cell_type": "code",
   "execution_count": 61,
   "id": "3768f70c-ac66-43b1-8458-f93b0c17b39b",
   "metadata": {},
   "outputs": [
    {
     "name": "stdout",
     "output_type": "stream",
     "text": [
      "6\n"
     ]
    }
   ],
   "source": [
    "correct_num = random.randint(5, 10)\n",
    "print(correct_num)"
   ]
  },
  {
   "cell_type": "code",
   "execution_count": 9,
   "id": "63b6ea31-d0db-40c0-a77f-7ab4a81bc0aa",
   "metadata": {},
   "outputs": [],
   "source": [
    "class NumTooSmall(Exception):\n",
    "    pass"
   ]
  },
  {
   "cell_type": "code",
   "execution_count": 4,
   "id": "fe686980-5a04-4237-9cc4-474e49b30fc4",
   "metadata": {},
   "outputs": [],
   "source": [
    "class NumTooBig(Exception):\n",
    "    pass"
   ]
  },
  {
   "cell_type": "code",
   "execution_count": 84,
   "id": "2dbaadfc-bcc5-4972-acd5-908f821c23ce",
   "metadata": {},
   "outputs": [
    {
     "name": "stdin",
     "output_type": "stream",
     "text": [
      "Enter yout number:  6\n"
     ]
    },
    {
     "name": "stdout",
     "output_type": "stream",
     "text": [
      "Lucky!\n",
      "don't forget bitch, mugen loop\n",
      "But you escaped!\n"
     ]
    }
   ],
   "source": [
    "while True:\n",
    "    try:\n",
    "        n = int(input(\"Enter yout number: \"))\n",
    "        if n < correct_num:\n",
    "            raise NumTooSmall(\"Too small\")\n",
    "        elif n > correct_num:\n",
    "            raise NumTooBig(\"Too Big\")\n",
    "        else:\n",
    "            print(\"Lucky!\")\n",
    "            break\n",
    "    except NumTooSmall as error:\n",
    "        print(error)\n",
    "    except NumTooBig as error:\n",
    "        print(error)\n",
    "    except ValueError:\n",
    "        print(\"you dind't entered a number\")\n",
    "    finally:\n",
    "        print(\"don't forget it, mugen loop\")\n",
    "print(\"But you escaped!\")\n",
    "        "
   ]
  },
  {
   "cell_type": "code",
   "execution_count": null,
   "id": "777b8f92-08d9-4757-bbcb-657386a1afb7",
   "metadata": {},
   "outputs": [],
   "source": []
  }
 ],
 "metadata": {
  "kernelspec": {
   "display_name": "Python 3 (ipykernel)",
   "language": "python",
   "name": "python3"
  },
  "language_info": {
   "codemirror_mode": {
    "name": "ipython",
    "version": 3
   },
   "file_extension": ".py",
   "mimetype": "text/x-python",
   "name": "python",
   "nbconvert_exporter": "python",
   "pygments_lexer": "ipython3",
   "version": "3.12.5"
  }
 },
 "nbformat": 4,
 "nbformat_minor": 5
}
