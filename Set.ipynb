{
 "cells": [
  {
   "cell_type": "code",
   "execution_count": 62,
   "id": "bde42714-c9b0-4a71-8a06-d2c6822bd562",
   "metadata": {},
   "outputs": [],
   "source": [
    "cars = ['toyota', 'nissan', 'honda', 'subaru']\n",
    "cars_set = set(cars)"
   ]
  },
  {
   "cell_type": "code",
   "execution_count": 54,
   "id": "4cdb38a4-1f5c-4c4d-a10e-b77fe3fe7790",
   "metadata": {},
   "outputs": [
    {
     "name": "stdout",
     "output_type": "stream",
     "text": [
      "{'toyota', 'nissan', 'honda', 'subaru'}\n"
     ]
    },
    {
     "data": {
      "text/plain": [
       "set"
      ]
     },
     "execution_count": 54,
     "metadata": {},
     "output_type": "execute_result"
    }
   ],
   "source": [
    "print(cars_set)\n",
    "type(cars_set)"
   ]
  },
  {
   "cell_type": "code",
   "execution_count": 55,
   "id": "b854133f-eb80-41ec-8401-bb8d4e307a35",
   "metadata": {},
   "outputs": [
    {
     "data": {
      "text/plain": [
       "set"
      ]
     },
     "execution_count": 55,
     "metadata": {},
     "output_type": "execute_result"
    }
   ],
   "source": [
    "empty_set = set()\n",
    "type(empty_set)"
   ]
  },
  {
   "cell_type": "code",
   "execution_count": 56,
   "id": "5fb148a1-63a4-4106-86d3-bd82819b0cd7",
   "metadata": {},
   "outputs": [
    {
     "data": {
      "text/plain": [
       "{'honda', 'matsuda', 'nissan', 'subaru', 'toyota'}"
      ]
     },
     "execution_count": 56,
     "metadata": {},
     "output_type": "execute_result"
    }
   ],
   "source": [
    "cars_set.add('matsuda')\n",
    "cars_set"
   ]
  },
  {
   "cell_type": "code",
   "execution_count": 57,
   "id": "026f1e72-d249-4144-88aa-a4b23301f64a",
   "metadata": {},
   "outputs": [
    {
     "data": {
      "text/plain": [
       "{'honda', 'matsuda', 'mizuho', 'nissan', 'subaru', 'toyota'}"
      ]
     },
     "execution_count": 57,
     "metadata": {},
     "output_type": "execute_result"
    }
   ],
   "source": [
    "cars_set.update(['matsuda','mizuho'])\n",
    "cars_set"
   ]
  },
  {
   "cell_type": "code",
   "execution_count": 58,
   "id": "0404fa18-9152-471e-80db-e25e1641984e",
   "metadata": {},
   "outputs": [
    {
     "data": {
      "text/plain": [
       "{'honda', 'matsuda', 'nissan', 'subaru', 'toyota'}"
      ]
     },
     "execution_count": 58,
     "metadata": {},
     "output_type": "execute_result"
    }
   ],
   "source": [
    "cars_set.remove('mizuho')\n",
    "cars_set"
   ]
  },
  {
   "cell_type": "code",
   "execution_count": 59,
   "id": "3a25f907-964e-4d54-9f3f-a7082b061c15",
   "metadata": {},
   "outputs": [
    {
     "data": {
      "text/plain": [
       "{'honda', 'nissan', 'subaru', 'toyota'}"
      ]
     },
     "execution_count": 59,
     "metadata": {},
     "output_type": "execute_result"
    }
   ],
   "source": [
    "cars_set.discard('matsuda')\n",
    "cars_set"
   ]
  },
  {
   "cell_type": "code",
   "execution_count": 60,
   "id": "7019b29a-d75e-4ba2-9523-03d25671d134",
   "metadata": {},
   "outputs": [
    {
     "data": {
      "text/plain": [
       "{'honda', 'subaru', 'toyota'}"
      ]
     },
     "execution_count": 60,
     "metadata": {},
     "output_type": "execute_result"
    }
   ],
   "source": [
    "cars_set.pop()\n",
    "cars_set"
   ]
  },
  {
   "cell_type": "code",
   "execution_count": 63,
   "id": "6535c047-b551-459d-9ad0-4f05acfe57c3",
   "metadata": {},
   "outputs": [
    {
     "data": {
      "text/plain": [
       "set()"
      ]
     },
     "execution_count": 63,
     "metadata": {},
     "output_type": "execute_result"
    }
   ],
   "source": [
    "cars_set.clear()\n",
    "cars_set"
   ]
  },
  {
   "cell_type": "code",
   "execution_count": null,
   "id": "7d783fff-b21b-497c-a7d5-3773a17380ef",
   "metadata": {},
   "outputs": [],
   "source": []
  }
 ],
 "metadata": {
  "kernelspec": {
   "display_name": "Python 3 (ipykernel)",
   "language": "python",
   "name": "python3"
  },
  "language_info": {
   "codemirror_mode": {
    "name": "ipython",
    "version": 3
   },
   "file_extension": ".py",
   "mimetype": "text/x-python",
   "name": "python",
   "nbconvert_exporter": "python",
   "pygments_lexer": "ipython3",
   "version": "3.9.6"
  }
 },
 "nbformat": 4,
 "nbformat_minor": 5
}
