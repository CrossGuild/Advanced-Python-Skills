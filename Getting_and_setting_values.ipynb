{
 "cells": [
  {
   "cell_type": "markdown",
   "id": "c3a4ef2b-bac4-4135-a08c-9f0658188baf",
   "metadata": {},
   "source": [
    "## Getting and setting values properly in a dictionary data type"
   ]
  },
  {
   "cell_type": "code",
   "execution_count": 27,
   "id": "efd47bac-f98d-4259-a8a6-8c46955cd419",
   "metadata": {},
   "outputs": [],
   "source": [
    "cars = {'toyota':100, 'honda':120, 'nissan':121, 'subaru':313}"
   ]
  },
  {
   "cell_type": "code",
   "execution_count": 28,
   "id": "941b02a1-78ad-4e83-91e8-133a60d8ec37",
   "metadata": {},
   "outputs": [
    {
     "name": "stdout",
     "output_type": "stream",
     "text": [
      "100\n",
      "None\n"
     ]
    }
   ],
   "source": [
    "print(cars['toyota'])\n",
    "# print(cars['matsuda'])\n",
    "print(cars.get('matsuda'))"
   ]
  },
  {
   "cell_type": "code",
   "execution_count": 29,
   "id": "3b917777-406e-452b-893a-fcc37699367a",
   "metadata": {},
   "outputs": [
    {
     "data": {
      "text/plain": [
       "41"
      ]
     },
     "execution_count": 29,
     "metadata": {},
     "output_type": "execute_result"
    }
   ],
   "source": [
    "cars.setdefault('matsuda',41)"
   ]
  },
  {
   "cell_type": "code",
   "execution_count": 30,
   "id": "aa29a79f-41b8-4819-8771-8281bbdcf87a",
   "metadata": {},
   "outputs": [
    {
     "data": {
      "text/plain": [
       "{'toyota': 100, 'honda': 120, 'nissan': 121, 'subaru': 313, 'matsuda': 41}"
      ]
     },
     "execution_count": 30,
     "metadata": {},
     "output_type": "execute_result"
    }
   ],
   "source": [
    "cars"
   ]
  },
  {
   "cell_type": "code",
   "execution_count": 35,
   "id": "d6c0d443-5900-4499-8bbd-67e0b593458b",
   "metadata": {},
   "outputs": [],
   "source": [
    "cars_list = ['toyota', 'honda', 'nissan', 'subaru']"
   ]
  },
  {
   "cell_type": "code",
   "execution_count": 42,
   "id": "d3e66541-b26b-4f9c-b2c9-0e2132aab9fe",
   "metadata": {},
   "outputs": [],
   "source": [
    "quantities = dict()\n",
    "for car in cars_list:\n",
    "    quantities[car] = quantities.setdefault(car,len(car))"
   ]
  },
  {
   "cell_type": "code",
   "execution_count": 43,
   "id": "0bfca754-0e3a-4bb3-a343-45edca6b6c3a",
   "metadata": {},
   "outputs": [
    {
     "data": {
      "text/plain": [
       "{'toyota': 6, 'honda': 5, 'nissan': 6, 'subaru': 6}"
      ]
     },
     "execution_count": 43,
     "metadata": {},
     "output_type": "execute_result"
    }
   ],
   "source": [
    "quantities"
   ]
  },
  {
   "cell_type": "code",
   "execution_count": null,
   "id": "b94d0f55-da09-4c01-86fe-e1540b371590",
   "metadata": {},
   "outputs": [],
   "source": []
  }
 ],
 "metadata": {
  "kernelspec": {
   "display_name": "Python 3 (ipykernel)",
   "language": "python",
   "name": "python3"
  },
  "language_info": {
   "codemirror_mode": {
    "name": "ipython",
    "version": 3
   },
   "file_extension": ".py",
   "mimetype": "text/x-python",
   "name": "python",
   "nbconvert_exporter": "python",
   "pygments_lexer": "ipython3",
   "version": "3.9.6"
  }
 },
 "nbformat": 4,
 "nbformat_minor": 5
}
