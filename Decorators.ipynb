{
 "cells": [
  {
   "cell_type": "code",
   "execution_count": 31,
   "id": "f85d17ed-600a-45a8-9952-41ec7152d49e",
   "metadata": {},
   "outputs": [],
   "source": [
    "def wrapper(f):\n",
    "    def inner():\n",
    "        print(\"I am a decorated function\")\n",
    "        f()\n",
    "    return inner"
   ]
  },
  {
   "cell_type": "code",
   "execution_count": 32,
   "id": "c6e336a1-2b0b-43f9-b9f5-0e218303663e",
   "metadata": {},
   "outputs": [],
   "source": [
    "@wrapper\n",
    "def hello_world():\n",
    "    print(\"Hello World!\")"
   ]
  },
  {
   "cell_type": "code",
   "execution_count": 33,
   "id": "54401f6a-8d9c-40dd-9b3b-c153ae288228",
   "metadata": {},
   "outputs": [],
   "source": [
    "decorated_hello_world = wrapper(hello_world)"
   ]
  },
  {
   "cell_type": "code",
   "execution_count": 34,
   "id": "0af519e9-8bc8-44dd-89d6-9f0a6d0478c7",
   "metadata": {},
   "outputs": [
    {
     "name": "stdout",
     "output_type": "stream",
     "text": [
      "I am a decorated function\n",
      "I am a decorated function\n",
      "Hello World!\n"
     ]
    }
   ],
   "source": [
    "decorated_hello_world()"
   ]
  },
  {
   "cell_type": "code",
   "execution_count": 35,
   "id": "f71efcad-ce6b-4a9a-b947-8e3ff20ac7e5",
   "metadata": {},
   "outputs": [
    {
     "name": "stdout",
     "output_type": "stream",
     "text": [
      "I am a decorated function\n",
      "Hello World!\n"
     ]
    }
   ],
   "source": [
    "hello_world()"
   ]
  },
  {
   "cell_type": "code",
   "execution_count": 48,
   "id": "6bc6c031-b406-4616-8898-5812d5440d68",
   "metadata": {},
   "outputs": [],
   "source": [
    "def wrapper(f):\n",
    "    def inner(a,b):\n",
    "        if b == 0:\n",
    "            print(\"We canner use b as zero\")\n",
    "            return\n",
    "        else:\n",
    "            return(a/b)\n",
    "    return inner\n",
    "            "
   ]
  },
  {
   "cell_type": "code",
   "execution_count": 61,
   "id": "cd5f9fde-802d-486f-a2ca-ea958c961947",
   "metadata": {},
   "outputs": [],
   "source": [
    "@wrapper\n",
    "def divide(a, b):\n",
    "    return a/b"
   ]
  },
  {
   "cell_type": "code",
   "execution_count": 100,
   "id": "1945b21d-d9ab-45d3-99bd-99215ffdb4da",
   "metadata": {},
   "outputs": [],
   "source": [
    "import time\n",
    "\n",
    "def wrapper(f):\n",
    "    def inner(*args, **kwargs):\n",
    "        start = time.time()\n",
    "        f(*args, **kwargs)\n",
    "        end = time.time()\n",
    "        execution_time = end -start\n",
    "        print(f\"This function took {execution_time} secs\")\n",
    "    return inner\n",
    "    "
   ]
  },
  {
   "cell_type": "code",
   "execution_count": 101,
   "id": "7276da21-eb72-4e87-9191-16020d00ec5e",
   "metadata": {},
   "outputs": [],
   "source": [
    "@wrapper\n",
    "def complicated_operation(a, b, c):\n",
    "    r = a + b + c \n",
    "    r *= a\n",
    "    r /= c\n",
    "    print(r)"
   ]
  },
  {
   "cell_type": "code",
   "execution_count": 102,
   "id": "be6151b2-546e-4561-bc50-3557f0c23409",
   "metadata": {},
   "outputs": [
    {
     "name": "stdout",
     "output_type": "stream",
     "text": [
      "91.0\n",
      "This function took 9.918212890625e-05 secs\n"
     ]
    }
   ],
   "source": [
    "complicated_operation(7,5,1)"
   ]
  },
  {
   "cell_type": "code",
   "execution_count": null,
   "id": "c2f64012-f2d8-4d03-8198-cd0d1cf868a1",
   "metadata": {},
   "outputs": [],
   "source": []
  },
  {
   "cell_type": "code",
   "execution_count": null,
   "id": "00d43627-1988-4104-8093-5a7d17a21923",
   "metadata": {},
   "outputs": [],
   "source": []
  }
 ],
 "metadata": {
  "kernelspec": {
   "display_name": "Python 3 (ipykernel)",
   "language": "python",
   "name": "python3"
  },
  "language_info": {
   "codemirror_mode": {
    "name": "ipython",
    "version": 3
   },
   "file_extension": ".py",
   "mimetype": "text/x-python",
   "name": "python",
   "nbconvert_exporter": "python",
   "pygments_lexer": "ipython3",
   "version": "3.9.6"
  }
 },
 "nbformat": 4,
 "nbformat_minor": 5
}
