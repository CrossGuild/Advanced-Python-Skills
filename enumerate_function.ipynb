{
 "cells": [
  {
   "cell_type": "markdown",
   "id": "8a78dad1-60ad-4259-9c64-e587491e7496",
   "metadata": {},
   "source": [
    "# The enumerate function\n",
    "## Adds a counter to an interable and returns it as an enumerate object.\n",
    "## The enumerate object is usually usded in for loops."
   ]
  },
  {
   "cell_type": "code",
   "execution_count": 10,
   "id": "9e25bb76-c14b-4d8c-a353-55e662155665",
   "metadata": {},
   "outputs": [
    {
     "name": "stdout",
     "output_type": "stream",
     "text": [
      "[(10, 'Toyota'), (11, 'Honda'), (12, 'BMW'), (13, 'Benz')]\n"
     ]
    }
   ],
   "source": [
    "cars = [\"Toyota\", \"Honda\", \"BMW\", \"Benz\"]\n",
    "# インデックスを数えてもらえる\n",
    "# Start Parameterを指定できる\n",
    "enumerated_cars = enumerate(cars, start=10)\n",
    "print(list(enumerated_cars))"
   ]
  },
  {
   "cell_type": "code",
   "execution_count": 19,
   "id": "fb18e670-aa54-467c-85d6-052bf1f55d8a",
   "metadata": {},
   "outputs": [
    {
     "name": "stdout",
     "output_type": "stream",
     "text": [
      "Toyota0.jpg\n",
      "Honda1.jpg\n",
      "BMW2.jpg\n",
      "Benz3.jpg\n"
     ]
    }
   ],
   "source": [
    "for idx, ele in enumerate(cars):\n",
    "    filename = f\"{ele}{idx}.jpg\"\n",
    "    print(filename)\n"
   ]
  }
 ],
 "metadata": {
  "kernelspec": {
   "display_name": "Python 3 (ipykernel)",
   "language": "python",
   "name": "python3"
  },
  "language_info": {
   "codemirror_mode": {
    "name": "ipython",
    "version": 3
   },
   "file_extension": ".py",
   "mimetype": "text/x-python",
   "name": "python",
   "nbconvert_exporter": "python",
   "pygments_lexer": "ipython3",
   "version": "3.9.6"
  }
 },
 "nbformat": 4,
 "nbformat_minor": 5
}
