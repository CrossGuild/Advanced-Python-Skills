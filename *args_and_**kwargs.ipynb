{
 "cells": [
  {
   "cell_type": "markdown",
   "id": "40a08d1b-990a-4092-bf05-bc69b0cb7788",
   "metadata": {},
   "source": [
    "# *args"
   ]
  },
  {
   "cell_type": "code",
   "execution_count": 45,
   "id": "56ee190e-a7d6-4cf5-b5e4-fd0deb1de6db",
   "metadata": {},
   "outputs": [],
   "source": [
    "def add(*args):\n",
    "    print(args[0])\n",
    "    iargs = 0\n",
    "    for i in range(len(args)):\n",
    "        iargs = iargs + args[i]\n",
    "    print(iargs)\n",
    "    return sum(args)"
   ]
  },
  {
   "cell_type": "code",
   "execution_count": 46,
   "id": "6ac8ec60-2e91-40a8-a06f-5aba482b15f7",
   "metadata": {},
   "outputs": [
    {
     "name": "stdout",
     "output_type": "stream",
     "text": [
      "1\n",
      "26\n"
     ]
    },
    {
     "data": {
      "text/plain": [
       "26"
      ]
     },
     "execution_count": 46,
     "metadata": {},
     "output_type": "execute_result"
    }
   ],
   "source": [
    "add(1,4,6,7,8)"
   ]
  },
  {
   "cell_type": "markdown",
   "id": "b25128c5-264d-4d73-a49f-0c99f348343e",
   "metadata": {},
   "source": [
    "# **kwargs"
   ]
  },
  {
   "cell_type": "code",
   "execution_count": 62,
   "id": "ea9ee423-4938-4da5-adb0-b5de7ff21a50",
   "metadata": {},
   "outputs": [],
   "source": [
    "def print_cars_info(**kwargs):\n",
    "    print(kwargs)\n",
    "    for a, b in kwargs.items():\n",
    "        print(f\"{a}: {b}\")"
   ]
  },
  {
   "cell_type": "code",
   "execution_count": 63,
   "id": "8273865c-dfc1-464c-96f0-6f458af8e11b",
   "metadata": {},
   "outputs": [
    {
     "name": "stdout",
     "output_type": "stream",
     "text": [
      "{'maker': 'toyoya', 'model': 'corolla', 'year': 2020}\n",
      "maker: toyoya\n",
      "model: corolla\n",
      "year: 2020\n"
     ]
    }
   ],
   "source": [
    "print_cars_info(maker = 'toyoya', model = 'corolla', year=2020)"
   ]
  },
  {
   "cell_type": "code",
   "execution_count": null,
   "id": "e544ec40-afe9-4126-a823-c08c08609ddd",
   "metadata": {},
   "outputs": [],
   "source": []
  }
 ],
 "metadata": {
  "kernelspec": {
   "display_name": "Python 3 (ipykernel)",
   "language": "python",
   "name": "python3"
  },
  "language_info": {
   "codemirror_mode": {
    "name": "ipython",
    "version": 3
   },
   "file_extension": ".py",
   "mimetype": "text/x-python",
   "name": "python",
   "nbconvert_exporter": "python",
   "pygments_lexer": "ipython3",
   "version": "3.9.6"
  }
 },
 "nbformat": 4,
 "nbformat_minor": 5
}
