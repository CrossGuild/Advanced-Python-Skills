{
 "cells": [
  {
   "cell_type": "markdown",
   "id": "80bb0379-3b67-4b27-991b-af5521d6ab3c",
   "metadata": {},
   "source": [
    "# Bank accounts\n",
    "## In this exercise, we will be creating a BankAccount class.\n",
    "\n",
    "## This class must have a constructor that receives an initial amount and set it to a property called balance. If you don't provide an initial amount, then you should set balance with zero.\n",
    "\n",
    "## You should write a setter and a getter for this property.\n",
    "\n",
    "## The setter should validate if the amount you pass is greater than or equal to zero. If it is negative, the balance should be setted to zero."
   ]
  },
  {
   "cell_type": "code",
   "execution_count": 2,
   "id": "a2d3a08f-d206-43e2-a8cf-62996cf28a3c",
   "metadata": {},
   "outputs": [],
   "source": [
    "class Bankaccount:\n",
    "    def __init__(self, initial_amount = 0):\n",
    "        self.balance = initial_amount\n",
    "    @property\n",
    "    def balance(self):\n",
    "        return self._balance\n",
    "    @balance.setter\n",
    "    def balance(self, amount):\n",
    "        if amount >= 0:\n",
    "            self._balance = amount\n",
    "        else:\n",
    "            self._balance = 0"
   ]
  },
  {
   "cell_type": "code",
   "execution_count": 11,
   "id": "69496b67-7a60-4005-a67a-aaeb95a73b9d",
   "metadata": {},
   "outputs": [],
   "source": [
    "ba = Bankaccount()"
   ]
  },
  {
   "cell_type": "code",
   "execution_count": 12,
   "id": "4bea5e06-c015-4fde-b0fa-dc3faa3c9c4f",
   "metadata": {},
   "outputs": [],
   "source": [
    "ba.balance = 1"
   ]
  },
  {
   "cell_type": "code",
   "execution_count": 13,
   "id": "23a7a30c-43fe-4cc0-89c5-18018eb1c4dc",
   "metadata": {},
   "outputs": [
    {
     "data": {
      "text/plain": [
       "1"
      ]
     },
     "execution_count": 13,
     "metadata": {},
     "output_type": "execute_result"
    }
   ],
   "source": [
    "ba.balance"
   ]
  },
  {
   "cell_type": "code",
   "execution_count": null,
   "id": "e69eeb9a-8d24-4304-8933-3cb3a413804e",
   "metadata": {},
   "outputs": [],
   "source": []
  },
  {
   "cell_type": "code",
   "execution_count": null,
   "id": "7d57cf5d-7943-4a98-9124-2e68aa06f94d",
   "metadata": {},
   "outputs": [],
   "source": []
  }
 ],
 "metadata": {
  "kernelspec": {
   "display_name": "Python 3 (ipykernel)",
   "language": "python",
   "name": "python3"
  },
  "language_info": {
   "codemirror_mode": {
    "name": "ipython",
    "version": 3
   },
   "file_extension": ".py",
   "mimetype": "text/x-python",
   "name": "python",
   "nbconvert_exporter": "python",
   "pygments_lexer": "ipython3",
   "version": "3.9.6"
  }
 },
 "nbformat": 4,
 "nbformat_minor": 5
}
