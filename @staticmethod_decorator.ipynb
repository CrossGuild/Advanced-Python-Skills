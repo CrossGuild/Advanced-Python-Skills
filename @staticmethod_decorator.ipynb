{
 "cells": [
  {
   "cell_type": "code",
   "execution_count": 116,
   "id": "6e3bd035-279b-461a-8d47-28877531dafe",
   "metadata": {},
   "outputs": [],
   "source": [
    "import time\n",
    "\n",
    "class Hour:\n",
    "    def __init__(self, seconds):\n",
    "        self.seconds = seconds\n",
    "        \n",
    "    # @property\n",
    "    # def seconds(self):\n",
    "    #     return self._seconds\n",
    "        \n",
    "    # @seconds.setter\n",
    "    # def seconds(self, seconds):\n",
    "    #     self._seconds = seconds\n",
    "    \n",
    "    @staticmethod\n",
    "    def convert_seconds_to_hour(seconds):\n",
    "        return time.strftime(\"%H:%M:%S\", time.gmtime(seconds))\n",
    "        \n",
    "    def display_hour(self):\n",
    "        hour = self.convert_seconds_to_hour(self.seconds)\n",
    "        print(f\"The hour is : {hour}\")"
   ]
  },
  {
   "cell_type": "code",
   "execution_count": 117,
   "id": "70f861d6-bda7-4690-8716-c7d766608eca",
   "metadata": {},
   "outputs": [],
   "source": [
    "hour1 = Hour(12)"
   ]
  },
  {
   "cell_type": "code",
   "execution_count": 118,
   "id": "37abe5ed-422f-4de8-9029-b67da35f8e12",
   "metadata": {},
   "outputs": [
    {
     "name": "stdout",
     "output_type": "stream",
     "text": [
      "The hour is : 00:00:12\n"
     ]
    },
    {
     "data": {
      "text/plain": [
       "'00:01:40'"
      ]
     },
     "execution_count": 118,
     "metadata": {},
     "output_type": "execute_result"
    }
   ],
   "source": [
    "hour1.display_hour()\n",
    "hour1.convert_seconds_to_hour(100)"
   ]
  },
  {
   "cell_type": "code",
   "execution_count": null,
   "id": "1a74f412-a245-471d-8093-03876aec756e",
   "metadata": {},
   "outputs": [],
   "source": []
  }
 ],
 "metadata": {
  "kernelspec": {
   "display_name": "Python 3 (ipykernel)",
   "language": "python",
   "name": "python3"
  },
  "language_info": {
   "codemirror_mode": {
    "name": "ipython",
    "version": 3
   },
   "file_extension": ".py",
   "mimetype": "text/x-python",
   "name": "python",
   "nbconvert_exporter": "python",
   "pygments_lexer": "ipython3",
   "version": "3.9.6"
  }
 },
 "nbformat": 4,
 "nbformat_minor": 5
}
