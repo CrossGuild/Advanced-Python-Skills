{
 "cells": [
  {
   "cell_type": "markdown",
   "id": "594eb6ae-b8da-4752-b758-8c43203e5e08",
   "metadata": {},
   "source": [
    "# The zip_longest function\n",
    "## Similar to the zip function\n",
    "## Takes into account longest iterable passed."
   ]
  },
  {
   "cell_type": "markdown",
   "id": "ef164f3c-7166-4c8b-97aa-6e770efe76c5",
   "metadata": {},
   "source": [
    "# Lists"
   ]
  },
  {
   "cell_type": "code",
   "execution_count": 9,
   "id": "b6b35e66-234e-4202-a48d-56e80c3cfec8",
   "metadata": {},
   "outputs": [],
   "source": [
    "from itertools import zip_longest"
   ]
  },
  {
   "cell_type": "code",
   "execution_count": 50,
   "id": "356c1bcd-1473-4063-b718-4e2a8e45f639",
   "metadata": {},
   "outputs": [],
   "source": [
    "countries = [\"Japan\", \"USA\", \"Colombia\",\"China\",\"India\"]\n",
    "capitals = [\"Tokyo\",\"Washington\",\"Bogota\",\"Beijing\",\"Delhi\"]\n",
    "cities = [\"Chiba\",\"NYC\", \"City\", \"XH\"]\n",
    "countries_and_capitals = zip_longest(countries, capitals,cities, fillvalue = \"Python\")"
   ]
  },
  {
   "cell_type": "code",
   "execution_count": 53,
   "id": "10fac48d-1da5-4442-bb19-8ca325e346bf",
   "metadata": {},
   "outputs": [
    {
     "data": {
      "text/plain": [
       "[]"
      ]
     },
     "execution_count": 53,
     "metadata": {},
     "output_type": "execute_result"
    }
   ],
   "source": [
    "list(countries_and_capitals)\n",
    "# 要素数が少ない配列のインデックスNumはNoneで表示\n",
    "# fillvalue変数で特定な文字列を指定できる"
   ]
  },
  {
   "cell_type": "markdown",
   "id": "75287b50-9a1f-4966-87cc-ea4ca0ee8ea7",
   "metadata": {
    "scrolled": true
   },
   "source": [
    "# Test\n",
    "## Summing numbers like in school\n",
    "### Write a function that sums two numbers like in school. This means, that you should sum digits from right to left and carry 1 if the sum of two digits is greater than or equal to 10. \n",
    "#### HINT: you should use the zip_longest function and the modulo operator (%).\n",
    "### In school, you may have done this without knowing that this algorithm also works for numbers in any base. Refactor this function in order to sum two numbers in any given base. HINT: your function should now receive the base as an argument. Your function should sum like in the first point if you pass 10 as the number base. If you pass 2, then you will be able to sum binary numbers!\n",
    "### The final solution should be a function that receives 3 arguments: the two numbers that you want to sum and the base. Be sure that every argument you pass to the function is an integer."
   ]
  },
  {
   "cell_type": "code",
   "execution_count": 114,
   "id": "9f5ef60f-d4e2-4ce4-aae6-f67cced0bf43",
   "metadata": {},
   "outputs": [],
   "source": [
    "from itertools import zip_longest\n",
    "\n",
    "def sum_like_in_school(number_1, number_2, base=10):\n",
    "    #　文字列を繋げよう\n",
    "    # １０進数の計算\n",
    "    digits_zipped = zip_longest(reversed(str(number_1)),reversed(str(number_2)), fillvalue = 0)\n",
    "    # 足し算した結果によって\n",
    "    carry = 0 \n",
    "    result = \"\"\n",
    "    for digit_i, digit_j in digits_zipped:\n",
    "        sum_of_digits = int(digit_i) + int(digit_j) + carry\n",
    "        if sum_of_digits >= base:\n",
    "            carry = 1\n",
    "            result = str(sum_of_digits % base) + result\n",
    "        else:\n",
    "            carry = 0\n",
    "            result = str(sum_of_digits) + result\n",
    "    return(int(result))"
   ]
  },
  {
   "cell_type": "raw",
   "id": "b564f7d5-249a-4808-a09c-295ba56ebab8",
   "metadata": {},
   "source": [
    "sum_like_in_school(112,1312) "
   ]
  },
  {
   "cell_type": "code",
   "execution_count": null,
   "id": "4a68224d-4166-4ad2-b328-aeaf7000dc61",
   "metadata": {},
   "outputs": [],
   "source": []
  },
  {
   "cell_type": "code",
   "execution_count": null,
   "id": "906bf3a3-796f-4a9b-be7c-e6bf23804bf5",
   "metadata": {},
   "outputs": [],
   "source": []
  }
 ],
 "metadata": {
  "kernelspec": {
   "display_name": "Python 3 (ipykernel)",
   "language": "python",
   "name": "python3"
  },
  "language_info": {
   "codemirror_mode": {
    "name": "ipython",
    "version": 3
   },
   "file_extension": ".py",
   "mimetype": "text/x-python",
   "name": "python",
   "nbconvert_exporter": "python",
   "pygments_lexer": "ipython3",
   "version": "3.9.6"
  }
 },
 "nbformat": 4,
 "nbformat_minor": 5
}
