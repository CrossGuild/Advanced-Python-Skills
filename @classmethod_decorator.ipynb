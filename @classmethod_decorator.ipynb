{
 "cells": [
  {
   "cell_type": "code",
   "execution_count": 32,
   "id": "356c6d6a-422a-4543-840d-e85f5c9aed77",
   "metadata": {},
   "outputs": [],
   "source": [
    "from datetime import date\n",
    "\n",
    "class Person:\n",
    "    def __init__(self, age):\n",
    "        self.age = age\n",
    "    def display_age(self):\n",
    "        print(f\"The age of the person in {self.age}\")\n",
    "    @classmethod\n",
    "    def person_from_birthyear(cls, birthyear):\n",
    "        calculated_age = date.today().year - birthyear\n",
    "        return cls(calculated_age)"
   ]
  },
  {
   "cell_type": "code",
   "execution_count": 43,
   "id": "a4986a62-3827-4aa6-bd7c-51287e6e15ef",
   "metadata": {},
   "outputs": [],
   "source": [
    "kuma = Person(25)"
   ]
  },
  {
   "cell_type": "code",
   "execution_count": 44,
   "id": "e11f425c-3fab-4c26-828c-11d4d5e9676c",
   "metadata": {},
   "outputs": [
    {
     "name": "stdout",
     "output_type": "stream",
     "text": [
      "The age of the person in 25\n",
      "None\n",
      "<class '__main__.Person'>\n"
     ]
    }
   ],
   "source": [
    "print(kuma.display_age())\n",
    "print(type(kuma))"
   ]
  },
  {
   "cell_type": "code",
   "execution_count": 50,
   "id": "f9646a5f-9f88-46ee-8f82-be8916efdb9c",
   "metadata": {},
   "outputs": [
    {
     "name": "stdout",
     "output_type": "stream",
     "text": [
      "<class '__main__.Person'>\n"
     ]
    }
   ],
   "source": [
    "neko = kuma.person_from_birthyear(1942)\n",
    "print(type(neko))"
   ]
  },
  {
   "cell_type": "code",
   "execution_count": 51,
   "id": "35ed79bb-77a5-46e5-9466-af0cfa418aff",
   "metadata": {},
   "outputs": [
    {
     "data": {
      "text/plain": [
       "82"
      ]
     },
     "execution_count": 51,
     "metadata": {},
     "output_type": "execute_result"
    }
   ],
   "source": [
    "neko.age"
   ]
  },
  {
   "cell_type": "code",
   "execution_count": 37,
   "id": "60c88c9e-659a-4dd8-9cf9-a7bbb53829db",
   "metadata": {},
   "outputs": [
    {
     "name": "stdout",
     "output_type": "stream",
     "text": [
      "The age of the person in 29\n"
     ]
    }
   ],
   "source": [
    "neko.display_age()"
   ]
  },
  {
   "cell_type": "code",
   "execution_count": 60,
   "id": "a36bea61-c93d-4e92-8b78-536071181a48",
   "metadata": {},
   "outputs": [],
   "source": [
    "class Employee(Person):\n",
    "    pass"
   ]
  },
  {
   "cell_type": "code",
   "execution_count": 79,
   "id": "90ac9088-1835-4edb-8dc0-94c56ffcb799",
   "metadata": {},
   "outputs": [],
   "source": [
    "employee = Employee.person_from_birthyear(1993)"
   ]
  },
  {
   "cell_type": "code",
   "execution_count": 81,
   "id": "d4b0b04b-603c-42d7-b658-bd7027a92a65",
   "metadata": {},
   "outputs": [
    {
     "name": "stdout",
     "output_type": "stream",
     "text": [
      "The age of the person in 31\n"
     ]
    }
   ],
   "source": [
    "employee.display_age()"
   ]
  },
  {
   "cell_type": "code",
   "execution_count": 91,
   "id": "f024c596-e7ff-4273-bf78-ac14ba9a06e1",
   "metadata": {},
   "outputs": [
    {
     "name": "stdout",
     "output_type": "stream",
     "text": [
      "False\n",
      "False\n",
      "True\n"
     ]
    }
   ],
   "source": [
    "print(isinstance(kuma, Employee))\n",
    "print(isinstance(neko, Employee))\n",
    "print(isinstance(employee, Employee))"
   ]
  },
  {
   "cell_type": "code",
   "execution_count": 93,
   "id": "4b434476-d5f9-48c3-8359-6840c34497cd",
   "metadata": {},
   "outputs": [
    {
     "data": {
      "text/plain": [
       "__main__.Employee"
      ]
     },
     "execution_count": 93,
     "metadata": {},
     "output_type": "execute_result"
    }
   ],
   "source": [
    "type(employee)"
   ]
  }
 ],
 "metadata": {
  "kernelspec": {
   "display_name": "Python 3 (ipykernel)",
   "language": "python",
   "name": "python3"
  },
  "language_info": {
   "codemirror_mode": {
    "name": "ipython",
    "version": 3
   },
   "file_extension": ".py",
   "mimetype": "text/x-python",
   "name": "python",
   "nbconvert_exporter": "python",
   "pygments_lexer": "ipython3",
   "version": "3.9.6"
  }
 },
 "nbformat": 4,
 "nbformat_minor": 5
}
