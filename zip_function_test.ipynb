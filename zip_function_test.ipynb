{
 "cells": [
  {
   "cell_type": "markdown",
   "id": "9088048e-f165-41a6-8595-75616a7c4da2",
   "metadata": {},
   "source": [
    "# Test\n",
    "## Summing numbers like in school\n",
    "### Write a function that sums two numbers like in school. This means, that you should sum digits from right to left and carry 1 if the sum of two digits is greater than or equal to 10. \n",
    "#### HINT: you should use the zip_longest function and the modulo operator (%).\n",
    "### In school, you may have done this without knowing that this algorithm also works for numbers in any base. Refactor this function in order to sum two numbers in any given base. HINT: your function should now receive the base as an argument. Your function should sum like in the first point if you pass 10 as the number base. If you pass 2, then you will be able to sum binary numbers!\n",
    "### The final solution should be a function that receives 3 arguments: the two numbers that you want to sum and the base. Be sure that every argument you pass to the function is an integer."
   ]
  },
  {
   "cell_type": "code",
   "execution_count": 19,
   "id": "fa1766d2-64f2-48bf-9d5c-3eff00e81d8a",
   "metadata": {},
   "outputs": [],
   "source": [
    "from itertools import zip_longest\n",
    "\n",
    "def sum_like_in_school(number_1, number_2, base=10):\n",
    "    #　文字列を繋げよう\n",
    "    # １０進数の計算\n",
    "    digits_zipped = zip_longest(reversed(str(number_1)),reversed(str(number_2)), fillvalue = 0)\n",
    "    # 足し算した結果によって\n",
    "    carry = 0 \n",
    "    result = \"\"\n",
    "    for digit_i, digit_j in digits_zipped:\n",
    "        sum_of_digits = int(digit_i) + int(digit_j) + carry\n",
    "        if sum_of_digits >= base:\n",
    "            carry = 1\n",
    "            result = str(sum_of_digits % base) + result\n",
    "        else:\n",
    "            carry = 0\n",
    "            result = str(sum_of_digits) + result\n",
    "    # 最後のループでCarryが１になれば、計算できない\n",
    "    if carry == 1:\n",
    "        result = str(carry) + result \n",
    "        return(int(result))\n",
    "    else:\n",
    "        return(int(result))"
   ]
  },
  {
   "cell_type": "code",
   "execution_count": 20,
   "id": "904548bd-481b-4831-9aa8-1976ed5fcd3f",
   "metadata": {},
   "outputs": [
    {
     "name": "stdout",
     "output_type": "stream",
     "text": [
      "1112\n"
     ]
    }
   ],
   "source": [
    "print(sum_like_in_school(121,991))"
   ]
  }
 ],
 "metadata": {
  "kernelspec": {
   "display_name": "Python 3 (ipykernel)",
   "language": "python",
   "name": "python3"
  },
  "language_info": {
   "codemirror_mode": {
    "name": "ipython",
    "version": 3
   },
   "file_extension": ".py",
   "mimetype": "text/x-python",
   "name": "python",
   "nbconvert_exporter": "python",
   "pygments_lexer": "ipython3",
   "version": "3.9.6"
  }
 },
 "nbformat": 4,
 "nbformat_minor": 5
}
