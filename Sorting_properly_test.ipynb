{
 "cells": [
  {
   "cell_type": "markdown",
   "id": "05dd92fe-1b2f-47d4-8102-a26216e8d151",
   "metadata": {},
   "source": [
    "# Learning the words in a strange order\n",
    "## One of your friends wants to learn new English words, but wants to do it in a certain order. First, he chooses short words, and if the words are the same length, he chooses them in lexicographical order when reading from right to left (he is Arab!). Write a function that receives as an argument a list of words, and returns a list in the order specified.\n",
    "\n",
    "## Here is an example:\n",
    "\n",
    "### Input data:\n",
    "### [\"west\", \"tax\", \"size\", \"sea\", \"use\", \"think\", \"yard\", \"word\", \"town\"]\n",
    " \n",
    "### Program output:\n",
    "### [\"sea\", \"use\", \"tax\", \"yard\", \"word\", \"size\", \"town\", \"west\", \"think\"]"
   ]
  },
  {
   "cell_type": "code",
   "execution_count": 73,
   "id": "47ba4473-3e73-4e1f-bee0-1f999532c82d",
   "metadata": {},
   "outputs": [],
   "source": [
    "def learning_words(list_of_words):\n",
    "    words = dict()\n",
    "    #words = {3:[], 4:[], 5:[]}\n",
    "    result = []\n",
    "    for word in list_of_words:\n",
    "        length = len(word)\n",
    "        words[length] = words.get(length, []) + [word]\n",
    "    for length in sorted(words):\n",
    "        # length = 3 or 4 or 5\n",
    "        # words[length] = ['tax', 'sea', use']\n",
    "        # xat aes esu\n",
    "        # aes esu xat\n",
    "        # sea use tax\n",
    "        for word in sorted(x[::-1] for x in words[length]):\n",
    "            # .appendでつい\n",
    "            result.append(word[::-1])\n",
    "    return result\n",
    "            "
   ]
  },
  {
   "cell_type": "code",
   "execution_count": 74,
   "id": "05515789-fe27-4204-a070-7349df2849e5",
   "metadata": {},
   "outputs": [],
   "source": [
    "input_data = ([\"west\", \"tax\", \"size\", \"sea\", \"use\", \"think\", \"yard\", \"word\", \"town\"])"
   ]
  },
  {
   "cell_type": "code",
   "execution_count": 75,
   "id": "561c7933-e9a6-4aa9-946c-d402274c6a78",
   "metadata": {},
   "outputs": [
    {
     "data": {
      "text/plain": [
       "['sea', 'use', 'tax', 'yard', 'word', 'size', 'town', 'west', 'think']"
      ]
     },
     "execution_count": 75,
     "metadata": {},
     "output_type": "execute_result"
    }
   ],
   "source": [
    "learning_words([\"west\", \"tax\", \"size\", \"sea\", \"use\", \"think\", \"yard\", \"word\", \"town\"])"
   ]
  },
  {
   "cell_type": "code",
   "execution_count": 78,
   "id": "c38e3b26-00c8-4b56-8b96-a6f5413b8afc",
   "metadata": {},
   "outputs": [
    {
     "data": {
      "text/plain": [
       "{'a': [1, 2, 3, 4, 5], 'b': [1, 3, 9]}"
      ]
     },
     "execution_count": 78,
     "metadata": {},
     "output_type": "execute_result"
    }
   ],
   "source": [
    "dicta = {'a':[1,2,3,4,5], 'b':[1,3,9]}\n",
    "dicta"
   ]
  }
 ],
 "metadata": {
  "kernelspec": {
   "display_name": "Python 3 (ipykernel)",
   "language": "python",
   "name": "python3"
  },
  "language_info": {
   "codemirror_mode": {
    "name": "ipython",
    "version": 3
   },
   "file_extension": ".py",
   "mimetype": "text/x-python",
   "name": "python",
   "nbconvert_exporter": "python",
   "pygments_lexer": "ipython3",
   "version": "3.9.6"
  }
 },
 "nbformat": 4,
 "nbformat_minor": 5
}
