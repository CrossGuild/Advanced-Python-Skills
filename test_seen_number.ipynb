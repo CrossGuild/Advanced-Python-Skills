{
 "cells": [
  {
   "cell_type": "markdown",
   "id": "17bb61ae-bd68-44f6-abe5-30d877797a1b",
   "metadata": {},
   "source": [
    "#Have you seen this number before?\n",
    "## Write a function that receives as an argument a list of numbers. For each number, append to an empty list the word \"YES\" if this number was previously encountered in the sequence, or \"NO\" if it was not.\n",
    "\n",
    "## Example:\n",
    "\n",
    "## Input data:\n",
    "## [1,2,1,2,4,5]\n",
    "## Output:\n",
    "## [\"NO\", \"NO\", \"YES\", \"YES\", \"NO\", \"NO\"]"
   ]
  },
  {
   "cell_type": "code",
   "execution_count": 14,
   "id": "efdf82a7-f96f-45c7-8d5f-c81092b50256",
   "metadata": {},
   "outputs": [],
   "source": [
    "def num_seen(list_of_numbers):\n",
    "    result_set = set()\n",
    "    result = []\n",
    "    for x in list_of_numbers:\n",
    "        if x not in result_set:\n",
    "            result_set.add(x)\n",
    "            result.append(\"NO\")\n",
    "        else:\n",
    "            result.append(\"YES\")\n",
    "    return result\n",
    "    "
   ]
  },
  {
   "cell_type": "code",
   "execution_count": 15,
   "id": "ba7114e6-dfca-446e-b792-405092343a31",
   "metadata": {},
   "outputs": [],
   "source": [
    "input_data = [1,2,1,2,4,5]"
   ]
  },
  {
   "cell_type": "code",
   "execution_count": 16,
   "id": "054d93af-6e14-4c9d-a71a-b5f7c4827eba",
   "metadata": {},
   "outputs": [
    {
     "data": {
      "text/plain": [
       "['NO', 'NO', 'YES', 'YES', 'NO', 'NO']"
      ]
     },
     "execution_count": 16,
     "metadata": {},
     "output_type": "execute_result"
    }
   ],
   "source": [
    "num_seen(input_data)"
   ]
  },
  {
   "cell_type": "code",
   "execution_count": null,
   "id": "e96d8437-11a7-485e-87f1-97d0f0fe9986",
   "metadata": {},
   "outputs": [],
   "source": []
  }
 ],
 "metadata": {
  "kernelspec": {
   "display_name": "Python 3 (ipykernel)",
   "language": "python",
   "name": "python3"
  },
  "language_info": {
   "codemirror_mode": {
    "name": "ipython",
    "version": 3
   },
   "file_extension": ".py",
   "mimetype": "text/x-python",
   "name": "python",
   "nbconvert_exporter": "python",
   "pygments_lexer": "ipython3",
   "version": "3.9.6"
  }
 },
 "nbformat": 4,
 "nbformat_minor": 5
}
