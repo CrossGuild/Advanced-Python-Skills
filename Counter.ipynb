{
 "cells": [
  {
   "cell_type": "code",
   "execution_count": 30,
   "id": "59c580f9-277a-410d-a71f-dda444b16d02",
   "metadata": {},
   "outputs": [],
   "source": [
    "from collections import Counter"
   ]
  },
  {
   "cell_type": "code",
   "execution_count": 31,
   "id": "d96c030c-3f7d-42a9-a239-551f9714f47c",
   "metadata": {},
   "outputs": [],
   "source": [
    "cars = ['toyota', 'toyota', 'toyota', 'subaru', 'subaru', 'subaru', 'nissan', 'matsuda', 'matsuda']"
   ]
  },
  {
   "cell_type": "code",
   "execution_count": 32,
   "id": "db8b4f64-9118-4ec1-969d-9558596328ad",
   "metadata": {},
   "outputs": [
    {
     "data": {
      "text/plain": [
       "Counter({'toyota': 3, 'subaru': 3, 'matsuda': 2, 'nissan': 1})"
      ]
     },
     "execution_count": 32,
     "metadata": {},
     "output_type": "execute_result"
    }
   ],
   "source": [
    "counts = Counter(cars)\n",
    "counts"
   ]
  },
  {
   "cell_type": "code",
   "execution_count": 33,
   "id": "6a4d9dbc-aa7a-4d21-8635-4f68fea100e8",
   "metadata": {},
   "outputs": [
    {
     "data": {
      "text/plain": [
       "3"
      ]
     },
     "execution_count": 33,
     "metadata": {},
     "output_type": "execute_result"
    }
   ],
   "source": [
    "counts.get('subaru')"
   ]
  },
  {
   "cell_type": "code",
   "execution_count": 34,
   "id": "55856cac-dd01-47fd-9f75-dde43f0553fc",
   "metadata": {},
   "outputs": [
    {
     "data": {
      "text/plain": [
       "3"
      ]
     },
     "execution_count": 34,
     "metadata": {},
     "output_type": "execute_result"
    }
   ],
   "source": [
    "counts['toyota']"
   ]
  },
  {
   "cell_type": "code",
   "execution_count": 35,
   "id": "17ffbcf7-4056-4c0a-91a7-31c3cf4fd861",
   "metadata": {},
   "outputs": [
    {
     "data": {
      "text/plain": [
       "dict_items([('toyota', 3), ('subaru', 3), ('nissan', 1), ('matsuda', 2)])"
      ]
     },
     "execution_count": 35,
     "metadata": {},
     "output_type": "execute_result"
    }
   ],
   "source": [
    "counts.most_common(4)\n",
    "counts.items()"
   ]
  },
  {
   "cell_type": "code",
   "execution_count": 28,
   "id": "85ac5805-f6e5-4304-99f8-7cee9d5fab78",
   "metadata": {},
   "outputs": [
    {
     "data": {
      "text/plain": [
       "Counter({'i': 8, 's': 6, 'm': 2, 'p': 2})"
      ]
     },
     "execution_count": 28,
     "metadata": {},
     "output_type": "execute_result"
    }
   ],
   "source": [
    "# 文字列でもできる\n",
    "counts = Counter('missisipimissisipi')\n",
    "counts"
   ]
  },
  {
   "cell_type": "code",
   "execution_count": null,
   "id": "2ea99235-1aa6-4620-9201-1b0f77fc00d7",
   "metadata": {},
   "outputs": [],
   "source": []
  }
 ],
 "metadata": {
  "kernelspec": {
   "display_name": "Python 3 (ipykernel)",
   "language": "python",
   "name": "python3"
  },
  "language_info": {
   "codemirror_mode": {
    "name": "ipython",
    "version": 3
   },
   "file_extension": ".py",
   "mimetype": "text/x-python",
   "name": "python",
   "nbconvert_exporter": "python",
   "pygments_lexer": "ipython3",
   "version": "3.9.6"
  }
 },
 "nbformat": 4,
 "nbformat_minor": 5
}
