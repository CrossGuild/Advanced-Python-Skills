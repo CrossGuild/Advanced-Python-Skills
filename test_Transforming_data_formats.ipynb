{
 "cells": [
  {
   "cell_type": "markdown",
   "id": "c926be40-52cd-4aee-8858-f021a20864b3",
   "metadata": {},
   "source": [
    "# Transforming data formats\n",
    "## The reduce function is extremely useful to transform data structures. When I say data structure, I am not talking about queues, linked lists and all of those things. I am talking about how a dataset is presented (or structured). For example, suppose we have a list of dictionaries like this:\n",
    "\n",
    "## invitees = [{\"email\": \"alex@example.com\", \"name\": \"Alex\", \"status\": \"attending\"},\n",
    "## {\"email\": \"brian@example.com\", \"name\": \"Brian\", \"status\": \"declined\"},\n",
    "## {\"email\": \"carol@example.com\", \"name\": \"Carol\", \"status\": \"pending\"},\n",
    "## {\"email\": \"david@example.com\", \"name\": \"David\", \"status\": \"attending\"},\n",
    "## {\"email\": \"maria@example.com\", \"name\": \"Maria\", \"status\": \"attending\"}]\n",
    "## You want to transform this list of dictionaries to a single dictionary like this:\n",
    "\n",
    "## {\"alex@example.com\": \"attending\",\n",
    "## \"brian@example.com\": \"declined\",\n",
    "## \"carol@example.com\": \"pending\",\n",
    "## \"david@example.com\": \"attending\",\n",
    "## \"maria@example.com\": \"attending\"}\n",
    "## Here, the reduce function can help. You just have to write an adequate function (maybe using a lambda function won't work here) and pass it to the reduce function, along with the invitees list and an empty dictionary as the initializer.\n",
    "\n",
    "## Give it a try!"
   ]
  },
  {
   "cell_type": "code",
   "execution_count": 2,
   "id": "625ebf7d-3dee-486e-a716-02511a86e5c9",
   "metadata": {},
   "outputs": [],
   "source": [
    "from functools import reduce"
   ]
  },
  {
   "cell_type": "code",
   "execution_count": 30,
   "id": "c75e197c-29ee-451e-82cc-88e334fe57bb",
   "metadata": {},
   "outputs": [],
   "source": [
    "def transfrom_data(invitees):\n",
    "    def transform_data(acc, invitee):\n",
    "        acc[invitee[\"email\"]] = invitee[\"status\"]\n",
    "        return acc\n",
    "    results = reduce(transform_data, invitees)\n",
    "    return results"
   ]
  },
  {
   "cell_type": "code",
   "execution_count": 31,
   "id": "ffb67255-c0ad-4038-bcf4-e52af3d84cba",
   "metadata": {},
   "outputs": [],
   "source": [
    "invitees = [{\"email\": \"alex@example.com\", \"name\": \"Alex\", \"status\": \"attending\"},\n",
    "\n",
    "{\"email\": \"brian@example.com\", \"name\": \"Brian\", \"status\": \"declined\"},\n",
    "\n",
    "{\"email\": \"carol@example.com\", \"name\": \"Carol\", \"status\": \"pending\"},\n",
    "\n",
    "{\"email\": \"david@example.com\", \"name\": \"David\", \"status\": \"attending\"},\n",
    "\n",
    "{\"email\": \"maria@example.com\", \"name\": \"Maria\", \"status\": \"attending\"}]"
   ]
  },
  {
   "cell_type": "code",
   "execution_count": 32,
   "id": "cd4b87c0-02e1-4c39-a87a-01aaad425b30",
   "metadata": {},
   "outputs": [
    {
     "data": {
      "text/plain": [
       "{'email': 'alex@example.com',\n",
       " 'name': 'Alex',\n",
       " 'status': 'attending',\n",
       " 'brian@example.com': 'declined',\n",
       " 'carol@example.com': 'pending',\n",
       " 'david@example.com': 'attending',\n",
       " 'maria@example.com': 'attending'}"
      ]
     },
     "execution_count": 32,
     "metadata": {},
     "output_type": "execute_result"
    }
   ],
   "source": [
    "transfrom_data(invitees)"
   ]
  },
  {
   "cell_type": "code",
   "execution_count": 35,
   "id": "cafe6c1d-bde5-429b-ba70-13f34c3f919e",
   "metadata": {},
   "outputs": [
    {
     "data": {
      "text/plain": [
       "3"
      ]
     },
     "execution_count": 35,
     "metadata": {},
     "output_type": "execute_result"
    }
   ],
   "source": [
    "dictex = {'a':1, 'b':2, 'c':3}\n",
    "dictex['a'] = dictex['c']\n",
    "dictex['a']"
   ]
  },
  {
   "cell_type": "code",
   "execution_count": null,
   "id": "77399cac-6b71-405b-ab97-e24bb59f0e22",
   "metadata": {},
   "outputs": [],
   "source": []
  }
 ],
 "metadata": {
  "kernelspec": {
   "display_name": "Python 3 (ipykernel)",
   "language": "python",
   "name": "python3"
  },
  "language_info": {
   "codemirror_mode": {
    "name": "ipython",
    "version": 3
   },
   "file_extension": ".py",
   "mimetype": "text/x-python",
   "name": "python",
   "nbconvert_exporter": "python",
   "pygments_lexer": "ipython3",
   "version": "3.9.6"
  }
 },
 "nbformat": 4,
 "nbformat_minor": 5
}
