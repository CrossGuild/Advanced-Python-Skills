{
 "cells": [
  {
   "cell_type": "markdown",
   "id": "62cf51f7-bab8-444a-9a7f-3a1f98010df7",
   "metadata": {},
   "source": [
    "# Implementing XOR\n",
    "## XOR (exclusive or) is a boolean operator with the following truth table:\n",
    "\n",
    "## XOR(0,0)=0\n",
    "\n",
    "## XOR(0,1)=1\n",
    "\n",
    "## XOR(1,0)=1\n",
    "\n",
    "## XOR(1, 1) = 0\n",
    "\n",
    "## You must write a function that receives two lists as the arguments. These lists must consist of zeros and ones. Let's call them A and B.\n",
    "\n",
    "## The function should return a list where the i-th element is XOR(A[i], B[i]).\n",
    "\n",
    "## Example:\n",
    "\n",
    "## Input data:\n",
    "## First argument: [0, 0, 1, 1]\n",
    "## Second argument: [0, 1, 0, 1]\n",
    "## Output:\n",
    "## [0, 1, 1, 0]\n",
    "## Please, use the map and zip functions."
   ]
  },
  {
   "cell_type": "code",
   "execution_count": 8,
   "id": "91272a71-b79a-49f6-aa56-ebf04b19a5d8",
   "metadata": {},
   "outputs": [
    {
     "ename": "SyntaxError",
     "evalue": "invalid syntax (848045509.py, line 3)",
     "output_type": "error",
     "traceback": [
      "\u001b[0;36m  Cell \u001b[0;32mIn[8], line 3\u001b[0;36m\u001b[0m\n\u001b[0;31m    return(list(map(lambda x: x[0] ^ x[1], zip(A,B))))\u001b[0m\n\u001b[0m    ^\u001b[0m\n\u001b[0;31mSyntaxError\u001b[0m\u001b[0;31m:\u001b[0m invalid syntax\n"
     ]
    }
   ],
   "source": [
    "def xor(A,B):\n",
    "    return(list(map(lambda x: x[0] ^ x[1], zip(A,B))))\n",
    "A = [0,0,1,1]\n",
    "B = [0,1,0,1]"
   ]
  },
  {
   "cell_type": "code",
   "execution_count": 15,
   "id": "1d4b7b9c-03d0-4712-a15d-17ab806661f2",
   "metadata": {},
   "outputs": [
    {
     "data": {
      "text/plain": [
       "[0, 1, 1, 0]"
      ]
     },
     "execution_count": 15,
     "metadata": {},
     "output_type": "execute_result"
    }
   ],
   "source": [
    "xor(A,B)\n",
    "# print(list(zip(A,B)))"
   ]
  },
  {
   "cell_type": "code",
   "execution_count": 25,
   "id": "666a95b9-9c67-4787-aa4a-20c428013dca",
   "metadata": {},
   "outputs": [
    {
     "name": "stdout",
     "output_type": "stream",
     "text": [
      "1 5 4\n",
      "2 6 4\n",
      "3 7 4\n",
      "4 8 12\n"
     ]
    },
    {
     "data": {
      "text/plain": [
       "[None, None, None, None]"
      ]
     },
     "execution_count": 25,
     "metadata": {},
     "output_type": "execute_result"
    }
   ],
   "source": [
    "c = [1,2,3,4]\n",
    "d = [5,6,7,8]\n",
    "list(map(lambda x: print(x[0], x[1], x[0] ^ x[1]), zip(c,d)))"
   ]
  }
 ],
 "metadata": {
  "kernelspec": {
   "display_name": "Python 3 (ipykernel)",
   "language": "python",
   "name": "python3"
  },
  "language_info": {
   "codemirror_mode": {
    "name": "ipython",
    "version": 3
   },
   "file_extension": ".py",
   "mimetype": "text/x-python",
   "name": "python",
   "nbconvert_exporter": "python",
   "pygments_lexer": "ipython3",
   "version": "3.9.6"
  }
 },
 "nbformat": 4,
 "nbformat_minor": 5
}
