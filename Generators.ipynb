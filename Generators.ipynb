{
 "cells": [
  {
   "cell_type": "markdown",
   "id": "ad1c2f6b-bb11-47ce-b040-9de5d9492b5b",
   "metadata": {},
   "source": [
    "# Generators\n",
    "## They are a simple way of creating iterators. by generators.\n",
    "## They are easy to implement."
   ]
  },
  {
   "cell_type": "markdown",
   "id": "26840082-a391-4c4f-96af-cc00a5fc1aac",
   "metadata": {},
   "source": [
    "# Generator expressions\n",
    "# Why use them?\n",
    "## Easier to implement that iterators\n",
    "## Memory efficient\n",
    "## Excellent to generate infinite streams\n",
    "## They can be pipelined"
   ]
  },
  {
   "cell_type": "code",
   "execution_count": null,
   "id": "b93c08e9-fcfc-4005-a800-51dcb3d1f9e9",
   "metadata": {},
   "outputs": [],
   "source": [
    "cars = ['honda', 'toyota', 'nissan', 'subaru']\n",
    "print(cars)\n",
    "itcars = iter(cars)\n",
    "print(itcars)"
   ]
  },
  {
   "cell_type": "code",
   "execution_count": 97,
   "id": "8a637d22-99a5-461b-ae29-08c3ce2bfe28",
   "metadata": {},
   "outputs": [],
   "source": [
    "class PowersofTwo:\n",
    "    def __init__(self):\n",
    "        pass\n",
    "    def __iter__(self):\n",
    "        self.n = 0\n",
    "        return self\n",
    "    def __next__(self):\n",
    "            result = 2**self.n\n",
    "            self.n += 1\n",
    "            return result"
   ]
  },
  {
   "cell_type": "code",
   "execution_count": 98,
   "id": "0bd299f4-6741-410c-a9a1-8c22cbb0c6bb",
   "metadata": {},
   "outputs": [],
   "source": [
    "obj = iter(PowersofTwo())"
   ]
  },
  {
   "cell_type": "code",
   "execution_count": 99,
   "id": "f05be0f6-e7f2-47c9-8fb8-805e3416faba",
   "metadata": {},
   "outputs": [
    {
     "data": {
      "text/plain": [
       "1"
      ]
     },
     "execution_count": 99,
     "metadata": {},
     "output_type": "execute_result"
    }
   ],
   "source": [
    "next(obj)"
   ]
  },
  {
   "cell_type": "code",
   "execution_count": 260,
   "id": "260a8503-ed06-4824-9476-cef78d48dbc4",
   "metadata": {},
   "outputs": [],
   "source": [
    "def powers_of_two():\n",
    "    i = 0\n",
    "    while True:\n",
    "        yield 2**i\n",
    "        i += 1"
   ]
  },
  {
   "cell_type": "code",
   "execution_count": 261,
   "id": "4e33d3c5-48ba-46df-b7fe-ff4d49ee85b6",
   "metadata": {},
   "outputs": [],
   "source": [
    "powers = powers_of_two()"
   ]
  },
  {
   "cell_type": "code",
   "execution_count": 277,
   "id": "ab5803b7-21ea-4a9d-aca0-b5b2bf532bcc",
   "metadata": {},
   "outputs": [
    {
     "data": {
      "text/plain": [
       "25"
      ]
     },
     "execution_count": 277,
     "metadata": {},
     "output_type": "execute_result"
    }
   ],
   "source": [
    "next(powers)"
   ]
  },
  {
   "cell_type": "code",
   "execution_count": null,
   "id": "74cd01da-d833-48a8-9248-18d8d7062cc9",
   "metadata": {},
   "outputs": [],
   "source": []
  },
  {
   "cell_type": "code",
   "execution_count": null,
   "id": "c7ef2037-6d9a-48c1-92b7-1484c59f582b",
   "metadata": {},
   "outputs": [],
   "source": []
  },
  {
   "cell_type": "code",
   "execution_count": null,
   "id": "cf57d283-1c4d-446e-9560-ab89564e88f8",
   "metadata": {},
   "outputs": [],
   "source": []
  }
 ],
 "metadata": {
  "kernelspec": {
   "display_name": "Python 3 (ipykernel)",
   "language": "python",
   "name": "python3"
  },
  "language_info": {
   "codemirror_mode": {
    "name": "ipython",
    "version": 3
   },
   "file_extension": ".py",
   "mimetype": "text/x-python",
   "name": "python",
   "nbconvert_exporter": "python",
   "pygments_lexer": "ipython3",
   "version": "3.9.6"
  }
 },
 "nbformat": 4,
 "nbformat_minor": 5
}
