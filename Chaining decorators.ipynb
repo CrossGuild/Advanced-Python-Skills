{
 "cells": [
  {
   "cell_type": "code",
   "execution_count": 3,
   "id": "8a26e897-79f2-42d4-ad73-89ec73e5d8fb",
   "metadata": {},
   "outputs": [
    {
     "name": "stdout",
     "output_type": "stream",
     "text": [
      "Defaulting to user installation because normal site-packages is not writeable\n",
      "Collecting flask\n",
      "  Downloading flask-3.0.3-py3-none-any.whl.metadata (3.2 kB)\n",
      "Collecting Werkzeug>=3.0.0 (from flask)\n",
      "  Downloading werkzeug-3.0.4-py3-none-any.whl.metadata (3.7 kB)\n",
      "Requirement already satisfied: Jinja2>=3.1.2 in ./Library/Python/3.9/lib/python/site-packages (from flask) (3.1.4)\n",
      "Collecting itsdangerous>=2.1.2 (from flask)\n",
      "  Downloading itsdangerous-2.2.0-py3-none-any.whl.metadata (1.9 kB)\n",
      "Collecting click>=8.1.3 (from flask)\n",
      "  Downloading click-8.1.7-py3-none-any.whl.metadata (3.0 kB)\n",
      "Collecting blinker>=1.6.2 (from flask)\n",
      "  Downloading blinker-1.8.2-py3-none-any.whl.metadata (1.6 kB)\n",
      "Requirement already satisfied: importlib-metadata>=3.6.0 in ./Library/Python/3.9/lib/python/site-packages (from flask) (8.3.0)\n",
      "Requirement already satisfied: zipp>=0.5 in ./Library/Python/3.9/lib/python/site-packages (from importlib-metadata>=3.6.0->flask) (3.20.0)\n",
      "Requirement already satisfied: MarkupSafe>=2.0 in ./Library/Python/3.9/lib/python/site-packages (from Jinja2>=3.1.2->flask) (2.1.5)\n",
      "Downloading flask-3.0.3-py3-none-any.whl (101 kB)\n",
      "Downloading blinker-1.8.2-py3-none-any.whl (9.5 kB)\n",
      "Downloading click-8.1.7-py3-none-any.whl (97 kB)\n",
      "Downloading itsdangerous-2.2.0-py3-none-any.whl (16 kB)\n",
      "Downloading werkzeug-3.0.4-py3-none-any.whl (227 kB)\n",
      "Installing collected packages: Werkzeug, itsdangerous, click, blinker, flask\n",
      "\u001b[33m  WARNING: The script flask is installed in '/Users/cws/Library/Python/3.9/bin' which is not on PATH.\n",
      "  Consider adding this directory to PATH or, if you prefer to suppress this warning, use --no-warn-script-location.\n",
      "  NOTE: The current PATH contains path(s) starting with `~`, which may not be expanded by all applications.\u001b[0m\u001b[33m\n",
      "\u001b[0mSuccessfully installed Werkzeug-3.0.4 blinker-1.8.2 click-8.1.7 flask-3.0.3 itsdangerous-2.2.0\n"
     ]
    }
   ],
   "source": [
    "! pip3 install flask"
   ]
  },
  {
   "cell_type": "code",
   "execution_count": 15,
   "id": "064b5cb1-df9f-4553-ab8f-c68b1e3d2b4c",
   "metadata": {},
   "outputs": [],
   "source": [
    "from flask import Flask\n",
    "app = Flask(__name__)\n",
    "\n",
    "@app.route('/')\n",
    "def hello_world():\n",
    "    return 'Hello, World!'"
   ]
  },
  {
   "cell_type": "code",
   "execution_count": 16,
   "id": "c5447f9c-86b4-4ef5-9a03-c988894ec366",
   "metadata": {},
   "outputs": [],
   "source": [
    "def wrapper_1(f):\n",
    "    def inner(*args, **kwargs):\n",
    "        print(\"I am the first decorator\")\n",
    "        f(*args, **kwargs)\n",
    "        print(\"I am the end of the first decorator\")\n",
    "        "
   ]
  },
  {
   "cell_type": "code",
   "execution_count": 17,
   "id": "a6fb81b1-e235-4c86-ad7b-14f077f3006f",
   "metadata": {},
   "outputs": [],
   "source": [
    "def wrapper_2(f):\n",
    "    def inner(*args, **kwargs):\n",
    "        print(\"I am the second decorator\")\n",
    "        f(*args, **kwargs)\n",
    "        print(\"I am the end of the second decorator\")\n",
    "    return inner"
   ]
  },
  {
   "cell_type": "code",
   "execution_count": 18,
   "id": "32a2c2cc-1bfb-453b-96c9-1697066b9ef9",
   "metadata": {},
   "outputs": [],
   "source": [
    "@wrapper_1\n",
    "@wrapper_2\n",
    "def hello_world():\n",
    "    print(\"Hello World\")"
   ]
  },
  {
   "cell_type": "code",
   "execution_count": 19,
   "id": "1db9192f-7195-460a-b0b3-5fc9c55699b0",
   "metadata": {},
   "outputs": [
    {
     "name": "stdout",
     "output_type": "stream",
     "text": [
      "I am the first decorator\n",
      "I am the second decorator\n",
      "Hello World\n",
      "I am the end of the second decorator\n",
      "I am the end of the first decorator\n"
     ]
    }
   ],
   "source": [
    "hello_world()"
   ]
  },
  {
   "cell_type": "code",
   "execution_count": null,
   "id": "627ae882-d4b2-43d1-8d6a-15d95964403d",
   "metadata": {},
   "outputs": [],
   "source": []
  }
 ],
 "metadata": {
  "kernelspec": {
   "display_name": "Python 3 (ipykernel)",
   "language": "python",
   "name": "python3"
  },
  "language_info": {
   "codemirror_mode": {
    "name": "ipython",
    "version": 3
   },
   "file_extension": ".py",
   "mimetype": "text/x-python",
   "name": "python",
   "nbconvert_exporter": "python",
   "pygments_lexer": "ipython3",
   "version": "3.9.6"
  }
 },
 "nbformat": 4,
 "nbformat_minor": 5
}
