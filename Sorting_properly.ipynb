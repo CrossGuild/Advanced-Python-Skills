{
 "cells": [
  {
   "cell_type": "markdown",
   "id": "591693f1-abc2-484f-8cfe-3722a141f8dc",
   "metadata": {},
   "source": [
    "# Sort vs Sorted\n",
    "## The sort method only works for lists. \n",
    "## The sorted function works for any iterable.\n",
    "## You can specifiy the parameter reverse in both of them.\n",
    "## And you can also specify a key."
   ]
  },
  {
   "cell_type": "code",
   "execution_count": 14,
   "id": "828c1adb-0f29-40ec-8432-a6d273359093",
   "metadata": {},
   "outputs": [
    {
     "data": {
      "text/plain": [
       "['honda', 'subaru', 'toyota']"
      ]
     },
     "execution_count": 14,
     "metadata": {},
     "output_type": "execute_result"
    }
   ],
   "source": [
    "cars = ['toyota', 'honda', 'subaru']\n",
    "cars.sort()\n",
    "cars"
   ]
  },
  {
   "cell_type": "code",
   "execution_count": 20,
   "id": "02eb3e4f-2512-41e5-a6f2-9aaa451451eb",
   "metadata": {},
   "outputs": [
    {
     "data": {
      "text/plain": [
       "['toyota', 'subaru', 'honda']"
      ]
     },
     "execution_count": 20,
     "metadata": {},
     "output_type": "execute_result"
    }
   ],
   "source": [
    "sorted(cars, reverse=True)"
   ]
  },
  {
   "cell_type": "code",
   "execution_count": 43,
   "id": "4eca9366-2560-4dba-a16a-9e0444bd49c4",
   "metadata": {},
   "outputs": [
    {
     "name": "stdout",
     "output_type": "stream",
     "text": [
      "['honda', 'subaru', 'toyota']\n",
      "[900, 1000, 1200]\n",
      "['toyota', 'subaru', 'honda']\n"
     ]
    }
   ],
   "source": [
    "carprice = {'toyota':1000, 'honda':1200, 'subaru':900}\n",
    "print(sorted(carprice))\n",
    "print(sorted(carprice.values()))\n",
    "print(sorted(carprice.keys(), reverse = True)) "
   ]
  },
  {
   "cell_type": "code",
   "execution_count": 69,
   "id": "a2b6c859-7ff8-49a2-af56-1fd7fb3170e8",
   "metadata": {},
   "outputs": [],
   "source": [
    "def get_quantity(x):\n",
    "    return carprice[x]"
   ]
  },
  {
   "cell_type": "code",
   "execution_count": 57,
   "id": "25df3287-c661-4782-ae80-bb6687abfdc2",
   "metadata": {},
   "outputs": [
    {
     "data": {
      "text/plain": [
       "['subaru', 'toyota', 'honda']"
      ]
     },
     "execution_count": 57,
     "metadata": {},
     "output_type": "execute_result"
    }
   ],
   "source": [
    "sorted(carprice, key = get_quantity)"
   ]
  },
  {
   "cell_type": "code",
   "execution_count": 71,
   "id": "9b9f1b09-0bba-40b2-be40-130f83c10914",
   "metadata": {},
   "outputs": [
    {
     "name": "stdout",
     "output_type": "stream",
     "text": [
      "['subaru', 'toyota', 'honda']\n",
      "['honda', 'toyota', 'subaru']\n"
     ]
    }
   ],
   "source": [
    "print(sorted(carprice, key = lambda car: carprice[car]))\n",
    "print(sorted(carprice, key = lambda car: carprice[car], reverse = True))"
   ]
  }
 ],
 "metadata": {
  "kernelspec": {
   "display_name": "Python 3 (ipykernel)",
   "language": "python",
   "name": "python3"
  },
  "language_info": {
   "codemirror_mode": {
    "name": "ipython",
    "version": 3
   },
   "file_extension": ".py",
   "mimetype": "text/x-python",
   "name": "python",
   "nbconvert_exporter": "python",
   "pygments_lexer": "ipython3",
   "version": "3.9.6"
  }
 },
 "nbformat": 4,
 "nbformat_minor": 5
}
