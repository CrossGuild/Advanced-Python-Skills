{
 "cells": [
  {
   "cell_type": "code",
   "execution_count": 40,
   "id": "ee78e689-b194-4b02-b8a5-8ad8daeca66b",
   "metadata": {},
   "outputs": [],
   "source": [
    "cars = ['toyota','toyota','toyota','honda','nissan','nissan','matsuda']"
   ]
  },
  {
   "cell_type": "code",
   "execution_count": 41,
   "id": "c55dbc4c-dd32-4de7-8677-d69a8d0dc5ab",
   "metadata": {},
   "outputs": [],
   "source": [
    "cars_s = set(cars)"
   ]
  },
  {
   "cell_type": "code",
   "execution_count": 42,
   "id": "8686b65c-2c46-4a45-a915-5de7c797325b",
   "metadata": {},
   "outputs": [],
   "source": [
    "another_cars_s = {'bmw', 'benz', 'matsuda', 'nissan', 'ford'}\n",
    "another_cars_s2 = {'bmw', 'benz', 'matsuda', 'nissan', 'ford','toyota','toyota','toyota','honda','nissan','nissan','matsuda'}\n"
   ]
  },
  {
   "cell_type": "code",
   "execution_count": 9,
   "id": "99e46a83-cad9-4846-b65b-1da61475a7ee",
   "metadata": {},
   "outputs": [
    {
     "data": {
      "text/plain": [
       "{'honda', 'matsuda', 'nissan', 'toyota'}"
      ]
     },
     "execution_count": 9,
     "metadata": {},
     "output_type": "execute_result"
    }
   ],
   "source": [
    "cars_s"
   ]
  },
  {
   "cell_type": "code",
   "execution_count": 10,
   "id": "1d0f12e9-df85-4cfa-b0ff-8d8974e66345",
   "metadata": {},
   "outputs": [
    {
     "data": {
      "text/plain": [
       "{'benz', 'bmw', 'ford', 'matsuda', 'nissan'}"
      ]
     },
     "execution_count": 10,
     "metadata": {},
     "output_type": "execute_result"
    }
   ],
   "source": [
    "another_cars_s"
   ]
  },
  {
   "cell_type": "code",
   "execution_count": 16,
   "id": "62fe8e97-932d-47af-80c4-a65b74d4c120",
   "metadata": {},
   "outputs": [
    {
     "name": "stdout",
     "output_type": "stream",
     "text": [
      "False\n",
      "True\n"
     ]
    }
   ],
   "source": [
    "print(another_cars_s.issuperset(cars_s))\n",
    "print(another_cars_s2.issuperset(cars_s))"
   ]
  },
  {
   "cell_type": "code",
   "execution_count": 19,
   "id": "8b535ba5-d23f-44b8-9ae9-c4d579b5cd28",
   "metadata": {},
   "outputs": [
    {
     "name": "stdout",
     "output_type": "stream",
     "text": [
      "{'matsuda', 'nissan', 'honda', 'ford', 'toyota', 'bmw', 'benz'}\n",
      "{'matsuda', 'nissan', 'honda', 'ford', 'toyota', 'bmw', 'benz'}\n"
     ]
    }
   ],
   "source": [
    "# Union\n",
    "print(cars_s | another_cars_s)\n",
    "print(cars_s.union(another_cars_s))"
   ]
  },
  {
   "cell_type": "code",
   "execution_count": 22,
   "id": "4fe908c4-b44c-4457-8dd5-39519904e905",
   "metadata": {},
   "outputs": [
    {
     "data": {
      "text/plain": [
       "{'benz', 'bmw', 'ford', 'honda', 'matsuda', 'nissan', 'toyota'}"
      ]
     },
     "execution_count": 22,
     "metadata": {},
     "output_type": "execute_result"
    }
   ],
   "source": [
    "cars_s.update(another_cars_s)\n",
    "cars_s"
   ]
  },
  {
   "cell_type": "code",
   "execution_count": 33,
   "id": "b8e3c991-0f15-4a71-b877-5937e0dbc8c8",
   "metadata": {},
   "outputs": [
    {
     "name": "stdout",
     "output_type": "stream",
     "text": [
      "{'matsuda', 'nissan', 'toyota', 'honda'}\n",
      "{'matsuda', 'nissan', 'bmw', 'ford', 'benz'}\n",
      "{'matsuda', 'nissan'}\n",
      "{'matsuda', 'nissan'}\n"
     ]
    }
   ],
   "source": [
    "# Intersection\n",
    "print(cars_s)\n",
    "print(another_cars_s)\n",
    "print(cars_s & another_cars_s)\n",
    "print(cars_s.intersection(another_cars_s))"
   ]
  },
  {
   "cell_type": "code",
   "execution_count": 43,
   "id": "667c31c3-c61f-469c-ae55-6e0094401297",
   "metadata": {},
   "outputs": [
    {
     "data": {
      "text/plain": [
       "{'matsuda', 'nissan'}"
      ]
     },
     "execution_count": 43,
     "metadata": {},
     "output_type": "execute_result"
    }
   ],
   "source": [
    "cars_s &= another_cars_s #???\n",
    "cars_s.intersection_update(another_cars_s)\n",
    "cars_s"
   ]
  },
  {
   "cell_type": "code",
   "execution_count": 46,
   "id": "67e17922-8417-4b13-98f9-90e006359774",
   "metadata": {},
   "outputs": [
    {
     "name": "stdout",
     "output_type": "stream",
     "text": [
      "{'matsuda', 'nissan'}\n",
      "{'matsuda', 'nissan', 'bmw', 'ford', 'benz'}\n",
      "{'ford', 'bmw', 'benz'}\n"
     ]
    }
   ],
   "source": [
    "# Difference\n",
    "print(cars_s)\n",
    "print(another_cars_s)\n",
    "print(another_cars_s-cars_s)"
   ]
  },
  {
   "cell_type": "code",
   "execution_count": 58,
   "id": "45d6c520-d819-42ae-80a6-0940736e8752",
   "metadata": {},
   "outputs": [
    {
     "name": "stdout",
     "output_type": "stream",
     "text": [
      "{'matsuda', 'nissan'}\n",
      "{'bmw', 'honda', 'ford', 'toyota', 'benz'}\n",
      "{'bmw', 'honda', 'ford', 'toyota', 'benz'}\n",
      "{'bmw', 'honda', 'ford', 'toyota', 'benz'}\n"
     ]
    }
   ],
   "source": [
    "#XOR\n",
    "cars = ['toyota','toyota','toyota','honda','nissan','nissan','matsuda']\n",
    "cars_s = set(cars)\n",
    "another_cars_s = {'bmw', 'benz', 'matsuda', 'nissan', 'ford'}\n",
    "another_cars_s2 = {'bmw', 'benz', 'matsuda', 'nissan', 'ford','toyota','toyota','toyota','honda','nissan','nissan','matsuda'}\n",
    "print(cars_s & another_cars_s)\n",
    "print(cars_s ^ another_cars_s)\n",
    "print(cars_s.symmetric_difference(another_cars_s))\n",
    "cars_s.symmetric_difference_update(another_cars_s)\n",
    "print(cars_s)\n",
    "\n"
   ]
  },
  {
   "cell_type": "code",
   "execution_count": null,
   "id": "2cde2a23-1f66-4b20-a084-6e151d4ac6ab",
   "metadata": {},
   "outputs": [],
   "source": []
  }
 ],
 "metadata": {
  "kernelspec": {
   "display_name": "Python 3 (ipykernel)",
   "language": "python",
   "name": "python3"
  },
  "language_info": {
   "codemirror_mode": {
    "name": "ipython",
    "version": 3
   },
   "file_extension": ".py",
   "mimetype": "text/x-python",
   "name": "python",
   "nbconvert_exporter": "python",
   "pygments_lexer": "ipython3",
   "version": "3.9.6"
  }
 },
 "nbformat": 4,
 "nbformat_minor": 5
}
