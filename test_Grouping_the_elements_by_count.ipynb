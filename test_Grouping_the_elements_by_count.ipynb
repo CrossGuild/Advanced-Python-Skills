{
 "cells": [
  {
   "cell_type": "markdown",
   "id": "ac93788b-4dcb-4d3e-873f-c004844aef20",
   "metadata": {},
   "source": [
    "# Grouping the elements by the count\n",
    "## So, we already know how to find the most common elements using the Counter class right? But what if two or more elements have the same count? Remember that the most_common() method returns a list of tuples. Instead of that, we want to return a dictionary where they keys are the counts and the values are lists that contain the elements with that count.\n",
    "\n",
    "## Example:\n",
    "\n",
    "## Input data:\n",
    "## [\"apple\", \"apple\", \"grapes\", \"grapes\", \"watermelon\"]\n",
    "## Output:\n",
    "## {2: [\"apple\", \"grapes\"], 1: [\"watermelon\"]}\n"
   ]
  },
  {
   "cell_type": "code",
   "execution_count": 16,
   "id": "42a560c9-711c-4c07-8e61-ed0625f04577",
   "metadata": {},
   "outputs": [],
   "source": [
    "from collections import Counter"
   ]
  },
  {
   "cell_type": "code",
   "execution_count": 17,
   "id": "68583c65-a32f-4568-b6e0-4072a2f1e6ef",
   "metadata": {},
   "outputs": [],
   "source": [
    "def find_counts(list_of_elements):\n",
    "    counts = Counter(list_of_elements)\n",
    "    result = dict()\n",
    "    for element, count in counts.items():\n",
    "        result[count] = result.setdefault(count, []) + [element]\n",
    "    return result"
   ]
  },
  {
   "cell_type": "code",
   "execution_count": 18,
   "id": "71b0e4de-8dd3-4ec0-926a-9a074230dda9",
   "metadata": {},
   "outputs": [],
   "source": [
    "input_data = [\"apple\", \"apple\", \"grapes\", \"grapes\", \"watermelon\"]"
   ]
  },
  {
   "cell_type": "code",
   "execution_count": 19,
   "id": "6665c0ea-7e68-4ac9-9e29-af63f1d8ebfb",
   "metadata": {},
   "outputs": [
    {
     "data": {
      "text/plain": [
       "{2: ['apple', 'grapes'], 1: ['watermelon']}"
      ]
     },
     "execution_count": 19,
     "metadata": {},
     "output_type": "execute_result"
    }
   ],
   "source": [
    "find_counts(input_data)"
   ]
  },
  {
   "cell_type": "code",
   "execution_count": 30,
   "id": "5c26948d-f376-4426-a770-a77b1c04bcb7",
   "metadata": {},
   "outputs": [
    {
     "name": "stdout",
     "output_type": "stream",
     "text": [
      "{'a': 1, 'b': 2, 'c': 3, 'd': 4, 'e': 5, 'f': [6464]}\n"
     ]
    }
   ],
   "source": [
    "car = {'a':1, 'b':2, 'c':3, 'd':4, 'e':5}\n",
    "car['f'] = car.setdefault('f',[]) + [6464]\n",
    "print(car)"
   ]
  },
  {
   "cell_type": "code",
   "execution_count": 37,
   "id": "852a9074-eb43-4788-ace9-c1f4d23c0b17",
   "metadata": {},
   "outputs": [
    {
     "data": {
      "text/plain": [
       "[1, 2, 4141414]"
      ]
     },
     "execution_count": 37,
     "metadata": {},
     "output_type": "execute_result"
    }
   ],
   "source": [
    "cdic = {'non':1, 'mon':2, 'son':[1,2]}\n",
    "cdic['son'] + [4141414]"
   ]
  },
  {
   "cell_type": "code",
   "execution_count": null,
   "id": "6a80c89c-a956-45ff-b05d-78662030670e",
   "metadata": {},
   "outputs": [],
   "source": []
  }
 ],
 "metadata": {
  "kernelspec": {
   "display_name": "Python 3 (ipykernel)",
   "language": "python",
   "name": "python3"
  },
  "language_info": {
   "codemirror_mode": {
    "name": "ipython",
    "version": 3
   },
   "file_extension": ".py",
   "mimetype": "text/x-python",
   "name": "python",
   "nbconvert_exporter": "python",
   "pygments_lexer": "ipython3",
   "version": "3.9.6"
  }
 },
 "nbformat": 4,
 "nbformat_minor": 5
}
