{
 "cells": [
  {
   "cell_type": "markdown",
   "id": "dbd8d623-037a-416e-b4e8-afb07c5cc63e",
   "metadata": {},
   "source": [
    "# The Zip function\n",
    "## Makes iterables\n",
    "## Is used for parallel iteration\n",
    "## Returns a Zip object, which is an iterator of tuples"
   ]
  },
  {
   "cell_type": "markdown",
   "id": "6518f270-31d3-4b63-8c78-b4e720735a39",
   "metadata": {},
   "source": [
    "# Lists"
   ]
  },
  {
   "cell_type": "code",
   "execution_count": 72,
   "id": "fea9b018-e6c8-4a7a-91a0-0d6f3b1f0cf6",
   "metadata": {},
   "outputs": [
    {
     "name": "stdout",
     "output_type": "stream",
     "text": [
      "<zip object at 0x103be0900>\n"
     ]
    }
   ],
   "source": [
    "countries = [\"Japan\", \"USA\", \"Colombia\",\"China\"]\n",
    "capitals = [\"Tokyo\",\"Washington\",\"Bogota\",\"Beijing\"]\n",
    "cities = [\"Chiba\",\"NYC\", \"City\", \"XH\"]\n",
    "countries_and_capitals = zip(countries, capitals,cities)\n",
    "# zipは変数を集合で結ぶ                    \n",
    "print(countries_and_capitals)"
   ]
  },
  {
   "cell_type": "code",
   "execution_count": 48,
   "id": "294a147c-52a2-4f3b-9d93-6c734f6711a3",
   "metadata": {},
   "outputs": [
    {
     "data": {
      "text/plain": [
       "('Japan', 'Tokyo')"
      ]
     },
     "execution_count": 48,
     "metadata": {},
     "output_type": "execute_result"
    }
   ],
   "source": [
    "countries_and_capitals.__next__()\n",
    "# Cannot Iterate right now"
   ]
  },
  {
   "cell_type": "code",
   "execution_count": 60,
   "id": "e3c5f42a-2b1b-4993-bff4-63ffde20b01f",
   "metadata": {},
   "outputs": [
    {
     "name": "stdout",
     "output_type": "stream",
     "text": [
      "Japan Tokyo\n",
      "USA Washington\n",
      "Colombia Bogota\n",
      "China Beijing\n"
     ]
    }
   ],
   "source": [
    "for country, capital in countries_and_capitals:\n",
    "    print(country, capital)"
   ]
  },
  {
   "cell_type": "code",
   "execution_count": 73,
   "id": "7ba289ca-7792-4be6-ae9b-9525ef001ae2",
   "metadata": {},
   "outputs": [
    {
     "data": {
      "text/plain": [
       "[('Japan', 'Tokyo', 'Chiba'),\n",
       " ('USA', 'Washington', 'NYC'),\n",
       " ('Colombia', 'Bogota', 'City'),\n",
       " ('China', 'Beijing', 'XH')]"
      ]
     },
     "execution_count": 73,
     "metadata": {},
     "output_type": "execute_result"
    }
   ],
   "source": [
    "ls = list(countries_and_capitals)\n",
    "ls"
   ]
  },
  {
   "cell_type": "markdown",
   "id": "8bf591b0-2ab9-45dc-bd12-289e1513d93d",
   "metadata": {},
   "source": [
    "# Dictionaries"
   ]
  },
  {
   "cell_type": "code",
   "execution_count": 87,
   "id": "1c426e54-b85d-4b74-b150-ec62789221d2",
   "metadata": {},
   "outputs": [
    {
     "data": {
      "text/plain": [
       "[('apple', 'iPhone', 1, 999),\n",
       " ('banana', 'Pixel', 1.1, 799),\n",
       " ('peach', 'Window', 1.5, 500)]"
      ]
     },
     "execution_count": 87,
     "metadata": {},
     "output_type": "execute_result"
    }
   ],
   "source": [
    "products = {\"apple\" : 1, \"banana\" : 1.1, \"peach\" : 1.5}\n",
    "tech_products = {\"iPhone\" : 999, \"Pixel\" : 799, \"Window\" : 500}\n",
    "p_and_tp = zip(products,tech_products)\n",
    "list(p_and_tp)\n",
    "# バリューは表示されなくなる\n",
    "# 基本的にはキーを表示\n",
    "p_and_tp_v = zip(products.keys(),tech_products.keys(),products.values(),tech_products.values())\n",
    "list(p_and_tp_v)"
   ]
  },
  {
   "cell_type": "markdown",
   "id": "0f1a32d4-22d3-4434-ad62-15f0e0bf3f46",
   "metadata": {},
   "source": [
    "# Tuples"
   ]
  },
  {
   "cell_type": "code",
   "execution_count": 89,
   "id": "9e41b862-9288-46a0-a21e-24ba44d2ef1f",
   "metadata": {},
   "outputs": [],
   "source": [
    "countries = (\"Japan\", \"USA\", \"Colombia\",\"China\")\n",
    "capitals = (\"Tokyo\",\"Washington\",\"Bogota\",\"Beijing\")\n",
    "cities = (\"Chiba\",\"NYC\", \"City\", \"XH\")\n",
    "countries_and_capitals = zip(countries, capitals,cities)"
   ]
  },
  {
   "cell_type": "code",
   "execution_count": 90,
   "id": "2e8587a8-549b-47f6-a372-2bee05963598",
   "metadata": {},
   "outputs": [
    {
     "data": {
      "text/plain": [
       "[('Japan', 'Tokyo', 'Chiba'),\n",
       " ('USA', 'Washington', 'NYC'),\n",
       " ('Colombia', 'Bogota', 'City'),\n",
       " ('China', 'Beijing', 'XH')]"
      ]
     },
     "execution_count": 90,
     "metadata": {},
     "output_type": "execute_result"
    }
   ],
   "source": [
    "list(countries_and_capitals)"
   ]
  },
  {
   "cell_type": "markdown",
   "id": "6f1ef755-ffda-439c-8e08-873102dd2cf3",
   "metadata": {},
   "source": [
    "# Strings"
   ]
  },
  {
   "cell_type": "code",
   "execution_count": 103,
   "id": "9f0cb73b-4ce6-447f-9a07-ef68ee021885",
   "metadata": {},
   "outputs": [],
   "source": [
    "country = \"Japan\"\n",
    "capital = \"Tokyo1123213\"\n",
    "countries_and_capitals = zip(country, capital)\n"
   ]
  },
  {
   "cell_type": "code",
   "execution_count": 104,
   "id": "9c361c9f-5f18-40bd-ba5f-787cdef2fbbb",
   "metadata": {},
   "outputs": [
    {
     "data": {
      "text/plain": [
       "[('J', 'T'), ('a', 'o'), ('p', 'k'), ('a', 'y'), ('n', 'o')]"
      ]
     },
     "execution_count": 104,
     "metadata": {},
     "output_type": "execute_result"
    }
   ],
   "source": [
    "list(countries_and_capitals)"
   ]
  }
 ],
 "metadata": {
  "kernelspec": {
   "display_name": "Python 3 (ipykernel)",
   "language": "python",
   "name": "python3"
  },
  "language_info": {
   "codemirror_mode": {
    "name": "ipython",
    "version": 3
   },
   "file_extension": ".py",
   "mimetype": "text/x-python",
   "name": "python",
   "nbconvert_exporter": "python",
   "pygments_lexer": "ipython3",
   "version": "3.9.6"
  }
 },
 "nbformat": 4,
 "nbformat_minor": 5
}
