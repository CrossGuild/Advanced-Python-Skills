{
 "cells": [
  {
   "cell_type": "code",
   "execution_count": 18,
   "id": "e87f9413-2ab9-401c-afa2-f3d4a132ddea",
   "metadata": {},
   "outputs": [
    {
     "name": "stdout",
     "output_type": "stream",
     "text": [
      "True\n",
      "False\n"
     ]
    }
   ],
   "source": [
    "cars = ['honda', 'subaru', 'toyota', 'nissan']\n",
    "cars_mapped = map(lambda car: len(car) > 4, cars)\n",
    "print(all(cars_mapped))\n",
    "print(any(cars_mapped))"
   ]
  },
  {
   "cell_type": "code",
   "execution_count": 23,
   "id": "a766a20c-9389-4b25-ba05-a9a07e52a9cd",
   "metadata": {},
   "outputs": [
    {
     "name": "stdout",
     "output_type": "stream",
     "text": [
      "[True, False, True, False]\n",
      "True\n",
      "False\n"
     ]
    }
   ],
   "source": [
    "cars_mapped = map(lambda car: car.endswith('a'), cars)\n",
    "print(list(cars_mapped))\n",
    "print(all(cars_mapped))\n",
    "print(any(cars_mapped))"
   ]
  }
 ],
 "metadata": {
  "kernelspec": {
   "display_name": "Python 3 (ipykernel)",
   "language": "python",
   "name": "python3"
  },
  "language_info": {
   "codemirror_mode": {
    "name": "ipython",
    "version": 3
   },
   "file_extension": ".py",
   "mimetype": "text/x-python",
   "name": "python",
   "nbconvert_exporter": "python",
   "pygments_lexer": "ipython3",
   "version": "3.9.6"
  }
 },
 "nbformat": 4,
 "nbformat_minor": 5
}
