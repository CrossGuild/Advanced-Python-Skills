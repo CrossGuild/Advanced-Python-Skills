{
 "cells": [
  {
   "cell_type": "code",
   "execution_count": 99,
   "id": "2ef3b579-f2fb-4857-bbdc-28375adf02e2",
   "metadata": {},
   "outputs": [],
   "source": [
    "def print_message(message):\n",
    "    def printer(message2):\n",
    "        print(message+ \" \" +message2)\n",
    "    return printer"
   ]
  },
  {
   "cell_type": "code",
   "execution_count": 100,
   "id": "53c0f4f5-47f4-4b5f-acff-eb7d56b19972",
   "metadata": {},
   "outputs": [
    {
     "name": "stdout",
     "output_type": "stream",
     "text": [
      "hello Bye\n"
     ]
    }
   ],
   "source": [
    "closure = print_message(\"hello\")\n",
    "closure(\"Bye\")"
   ]
  },
  {
   "cell_type": "code",
   "execution_count": 101,
   "id": "3ab6f063-009f-47bc-a800-a0e9154e0638",
   "metadata": {},
   "outputs": [],
   "source": [
    "del print_message"
   ]
  },
  {
   "cell_type": "code",
   "execution_count": 102,
   "id": "2ae24c7e-ca8b-4628-8db3-ac2774961f0b",
   "metadata": {},
   "outputs": [
    {
     "ename": "NameError",
     "evalue": "name 'print_message' is not defined",
     "output_type": "error",
     "traceback": [
      "\u001b[0;31m---------------------------------------------------------------------------\u001b[0m",
      "\u001b[0;31mNameError\u001b[0m                                 Traceback (most recent call last)",
      "Cell \u001b[0;32mIn[102], line 1\u001b[0m\n\u001b[0;32m----> 1\u001b[0m closure \u001b[38;5;241m=\u001b[39m \u001b[43mprint_message\u001b[49m(\u001b[38;5;124m\"\u001b[39m\u001b[38;5;124mhello\u001b[39m\u001b[38;5;124m\"\u001b[39m)\n",
      "\u001b[0;31mNameError\u001b[0m: name 'print_message' is not defined"
     ]
    }
   ],
   "source": [
    "closure = print_message(\"hello\")"
   ]
  },
  {
   "cell_type": "code",
   "execution_count": 103,
   "id": "1a18aa3b-ce23-4fc7-87cd-59af85caef5a",
   "metadata": {},
   "outputs": [],
   "source": [
    "class Multiplier:\n",
    "    def __init__(self, n):\n",
    "        self.n = n\n",
    "    def multiply(self, x):\n",
    "        return x * self.n\n",
    "    "
   ]
  },
  {
   "cell_type": "code",
   "execution_count": 104,
   "id": "d854a72d-5358-431c-8420-0ad6737eb2fe",
   "metadata": {},
   "outputs": [
    {
     "data": {
      "text/plain": [
       "1000"
      ]
     },
     "execution_count": 104,
     "metadata": {},
     "output_type": "execute_result"
    }
   ],
   "source": [
    "obj = Multiplier(100)\n",
    "Multiplier(10).multiply(7)\n",
    "obj.multiply(10)"
   ]
  },
  {
   "cell_type": "code",
   "execution_count": 92,
   "id": "0e9f9a8f-61a9-4bbe-b3ff-0af059a8e0ae",
   "metadata": {},
   "outputs": [
    {
     "data": {
      "text/plain": [
       "70"
      ]
     },
     "execution_count": 92,
     "metadata": {},
     "output_type": "execute_result"
    }
   ],
   "source": []
  },
  {
   "cell_type": "code",
   "execution_count": 60,
   "id": "53275c44-76f9-429a-ada0-6f0111d902ac",
   "metadata": {},
   "outputs": [],
   "source": [
    "def multiplier(n):\n",
    "    def multiply(x):\n",
    "        return x*n\n",
    "    return multiply"
   ]
  },
  {
   "cell_type": "code",
   "execution_count": 62,
   "id": "be408fe4-ecfb-4d96-94bf-2ce418bf1874",
   "metadata": {},
   "outputs": [
    {
     "name": "stdout",
     "output_type": "stream",
     "text": [
      "50\n"
     ]
    }
   ],
   "source": [
    "closure = multiplier(10)\n",
    "print(closure(5))\n"
   ]
  }
 ],
 "metadata": {
  "kernelspec": {
   "display_name": "Python 3 (ipykernel)",
   "language": "python",
   "name": "python3"
  },
  "language_info": {
   "codemirror_mode": {
    "name": "ipython",
    "version": 3
   },
   "file_extension": ".py",
   "mimetype": "text/x-python",
   "name": "python",
   "nbconvert_exporter": "python",
   "pygments_lexer": "ipython3",
   "version": "3.9.6"
  }
 },
 "nbformat": 4,
 "nbformat_minor": 5
}
