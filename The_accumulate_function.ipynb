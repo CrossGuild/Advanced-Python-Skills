{
 "cells": [
  {
   "cell_type": "code",
   "execution_count": 1,
   "id": "bb2c4b60-aa16-4273-91ec-e7ea19a1f566",
   "metadata": {},
   "outputs": [],
   "source": [
    "from itertools import accumulate"
   ]
  },
  {
   "cell_type": "code",
   "execution_count": 18,
   "id": "91dde1fb-35f4-4ef4-b507-bdb32caecacc",
   "metadata": {},
   "outputs": [],
   "source": [
    "from operator import mul\n",
    "from operator import add"
   ]
  },
  {
   "cell_type": "code",
   "execution_count": 19,
   "id": "982c3851-74c1-4861-bb05-3446aa996276",
   "metadata": {},
   "outputs": [
    {
     "name": "stdout",
     "output_type": "stream",
     "text": [
      "1\n",
      "5\n",
      "11\n",
      "19\n",
      "28\n"
     ]
    }
   ],
   "source": [
    "nums = [1,4,6,8,9]\n",
    "result = accumulate(nums, add)\n",
    "for i in result:\n",
    "    print(i)"
   ]
  },
  {
   "cell_type": "code",
   "execution_count": 20,
   "id": "a23eac2b-67df-44b0-a633-38a6cda9b5ee",
   "metadata": {},
   "outputs": [
    {
     "name": "stdout",
     "output_type": "stream",
     "text": [
      "1\n",
      "4\n",
      "24\n",
      "192\n",
      "1728\n"
     ]
    }
   ],
   "source": [
    "result = accumulate(nums, mul)\n",
    "for i in result:\n",
    "    print(i)"
   ]
  },
  {
   "cell_type": "code",
   "execution_count": null,
   "id": "9ce3b9ad-2d8e-4190-9d03-a1ad1abd57be",
   "metadata": {},
   "outputs": [],
   "source": []
  }
 ],
 "metadata": {
  "kernelspec": {
   "display_name": "Python 3 (ipykernel)",
   "language": "python",
   "name": "python3"
  },
  "language_info": {
   "codemirror_mode": {
    "name": "ipython",
    "version": 3
   },
   "file_extension": ".py",
   "mimetype": "text/x-python",
   "name": "python",
   "nbconvert_exporter": "python",
   "pygments_lexer": "ipython3",
   "version": "3.9.6"
  }
 },
 "nbformat": 4,
 "nbformat_minor": 5
}
