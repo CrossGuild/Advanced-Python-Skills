{
 "cells": [
  {
   "cell_type": "markdown",
   "id": "1e572bec-c20a-42fc-b34a-c573b08052f3",
   "metadata": {},
   "source": [
    "# The map function\n",
    "## Applies a given function to each item of an iterable.\n",
    "## Returns a map object(which is an iterator).\n",
    "## Use it instead of loops whenever you can!"
   ]
  },
  {
   "cell_type": "code",
   "execution_count": 52,
   "id": "79b495ed-8cbb-43fa-8279-f3c04894e5b0",
   "metadata": {},
   "outputs": [
    {
     "name": "stdout",
     "output_type": "stream",
     "text": [
      "['Honda', 'Subarus', 'Toyota', 'Nissan']\n"
     ]
    }
   ],
   "source": [
    "cars = ['honda', 'subarus', 'toyota', 'nissan']\n",
    "# Capitalizing a list - Normal Approach\n",
    "for i in range(len(cars)):\n",
    "    cars[i] = cars[i].capitalize()\n",
    "print(cars)"
   ]
  },
  {
   "cell_type": "code",
   "execution_count": 53,
   "id": "b53767cb-dca9-4719-a93e-9f9631c063c9",
   "metadata": {},
   "outputs": [
    {
     "data": {
      "text/plain": [
       "['Honda', 'Subarus', 'Toyota', 'Nissan']"
      ]
     },
     "execution_count": 53,
     "metadata": {},
     "output_type": "execute_result"
    }
   ],
   "source": [
    "result = map(lambda car : car.capitalize(), cars)\n",
    "list(result)"
   ]
  },
  {
   "cell_type": "code",
   "execution_count": 60,
   "id": "e734f80a-933f-47dd-811a-722319c9c2df",
   "metadata": {},
   "outputs": [],
   "source": [
    "def process(car):\n",
    "    resulting_str = car.capitalize()\n",
    "    if car.endswith(\"s\"):\n",
    "        resulting_str += \" are great!\"\n",
    "    else:\n",
    "        resulting_str += \" is great!\"\n",
    "    return resulting_str"
   ]
  },
  {
   "cell_type": "code",
   "execution_count": 64,
   "id": "8bd5b072-b290-4df0-9844-77229d90b2f6",
   "metadata": {},
   "outputs": [
    {
     "name": "stdout",
     "output_type": "stream",
     "text": [
      "['Honda is great!', 'Subarus are great!', 'Toyota is great!', 'Nissan is great!']\n"
     ]
    }
   ],
   "source": [
    "#関数をmap\n",
    "result = map(process, cars)\n",
    "print(list(result))"
   ]
  },
  {
   "cell_type": "code",
   "execution_count": null,
   "id": "82ee0d2f-1545-44b8-bb3d-f15edc8d75e8",
   "metadata": {},
   "outputs": [],
   "source": []
  }
 ],
 "metadata": {
  "kernelspec": {
   "display_name": "Python 3 (ipykernel)",
   "language": "python",
   "name": "python3"
  },
  "language_info": {
   "codemirror_mode": {
    "name": "ipython",
    "version": 3
   },
   "file_extension": ".py",
   "mimetype": "text/x-python",
   "name": "python",
   "nbconvert_exporter": "python",
   "pygments_lexer": "ipython3",
   "version": "3.9.6"
  }
 },
 "nbformat": 4,
 "nbformat_minor": 5
}
