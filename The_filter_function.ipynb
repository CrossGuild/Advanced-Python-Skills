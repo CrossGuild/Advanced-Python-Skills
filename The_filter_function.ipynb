{
 "cells": [
  {
   "cell_type": "markdown",
   "id": "ec440ead-aeb7-4efd-8b02-922280cb9dd4",
   "metadata": {},
   "source": [
    "# The filter function\n",
    "## Constructs an iterator from elements of an iterable for which a function returns True.\n",
    "## In Other Words: it filters an iterable based on a condition given by a function."
   ]
  },
  {
   "cell_type": "code",
   "execution_count": 109,
   "id": "e788d018-44d8-4ebe-bc8f-e5f828804d28",
   "metadata": {},
   "outputs": [
    {
     "data": {
      "text/plain": [
       "['toyota']"
      ]
     },
     "execution_count": 109,
     "metadata": {},
     "output_type": "execute_result"
    }
   ],
   "source": [
    "cars = ['toyota', 'honda', 'subaru', 'nissan']\n",
    "filtered_cars = filter(lambda car: car.startswith('t') == True, cars)\n",
    "list(filtered_cars)"
   ]
  },
  {
   "cell_type": "code",
   "execution_count": 126,
   "id": "23498769-8a4f-42e7-8f4e-789d338e23a7",
   "metadata": {},
   "outputs": [
    {
     "data": {
      "text/plain": [
       "[('subaru', 3), ('nissan', 4)]"
      ]
     },
     "execution_count": 126,
     "metadata": {},
     "output_type": "execute_result"
    }
   ],
   "source": [
    "car_dict = {'toyota':1, 'honda':2, 'subaru':3, 'nissan':4}\n",
    "filtered_cars2 = filter(lambda cd: cd[1] >= 3, car_dict.items())\n",
    "list(filtered_cars2)"
   ]
  }
 ],
 "metadata": {
  "kernelspec": {
   "display_name": "Python 3 (ipykernel)",
   "language": "python",
   "name": "python3"
  },
  "language_info": {
   "codemirror_mode": {
    "name": "ipython",
    "version": 3
   },
   "file_extension": ".py",
   "mimetype": "text/x-python",
   "name": "python",
   "nbconvert_exporter": "python",
   "pygments_lexer": "ipython3",
   "version": "3.9.6"
  }
 },
 "nbformat": 4,
 "nbformat_minor": 5
}
