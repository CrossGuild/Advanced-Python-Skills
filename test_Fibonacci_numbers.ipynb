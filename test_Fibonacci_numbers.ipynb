{
 "cells": [
  {
   "cell_type": "markdown",
   "id": "e3708d2c-82e6-41eb-b3ac-da0946ad69b7",
   "metadata": {},
   "source": [
    "# Fibonacci numbers\n",
    "## Let's apply what we learn about generators by creating the so famous Fibonacci sequence. Remember how they are defined by reading this article: Fibonacci numbers\n",
    "\n",
    "## You must create a generator that yields fibonacci numbers. This must be an infinite stream generator. Thus, the function won't receive any arguments. You should not use recursion.\n",
    "\n",
    "## Instead, you should take advantage of the fact that generators \"remember\" the state of the function.\n",
    "\n",
    "## Remember that the first element (index 0) is 0 and the second element (index 1) is 1."
   ]
  },
  {
   "cell_type": "code",
   "execution_count": 2,
   "id": "dcf9cb20-bc04-4bd5-b6fd-fbdceb7ddbc9",
   "metadata": {},
   "outputs": [],
   "source": [
    "def fibonacci_numbers():\n",
    "    a = 0\n",
    "    b = 1\n",
    "    yield a\n",
    "    yield b\n",
    "    while True:\n",
    "        c = a + b\n",
    "        a, b = b, c\n",
    "        yield b"
   ]
  },
  {
   "cell_type": "code",
   "execution_count": null,
   "id": "b808d56f-06ae-48e8-af38-3d2b8cfd2a4f",
   "metadata": {},
   "outputs": [],
   "source": [
    "fib = fibonacci_numbers()\n",
    "print(list(fib))"
   ]
  },
  {
   "cell_type": "code",
   "execution_count": 44,
   "id": "9a4d4c44-6ad7-4f5a-8372-52f785e59e80",
   "metadata": {},
   "outputs": [
    {
     "data": {
      "text/plain": [
       "2"
      ]
     },
     "execution_count": 44,
     "metadata": {},
     "output_type": "execute_result"
    }
   ],
   "source": [
    "next(fib)"
   ]
  }
 ],
 "metadata": {
  "kernelspec": {
   "display_name": "Python 3 (ipykernel)",
   "language": "python",
   "name": "python3"
  },
  "language_info": {
   "codemirror_mode": {
    "name": "ipython",
    "version": 3
   },
   "file_extension": ".py",
   "mimetype": "text/x-python",
   "name": "python",
   "nbconvert_exporter": "python",
   "pygments_lexer": "ipython3",
   "version": "3.9.6"
  }
 },
 "nbformat": 4,
 "nbformat_minor": 5
}
