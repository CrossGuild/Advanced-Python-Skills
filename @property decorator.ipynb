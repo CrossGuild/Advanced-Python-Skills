{
 "cells": [
  {
   "cell_type": "code",
   "execution_count": 39,
   "id": "2c17c9db-fee1-4249-8520-70b8a3bd6514",
   "metadata": {},
   "outputs": [],
   "source": [
    "class Person:\n",
    "    def __init__(self, age):\n",
    "        self.age = age\n",
    "\n",
    "    @property\n",
    "    def age(self):\n",
    "        print(\"Getting the age..\")\n",
    "        return self._age\n",
    "    \n",
    "    @age.setter\n",
    "    def age(self, age):\n",
    "        if age < 0 or age > 120:\n",
    "            print(\"Error!\")\n",
    "        else:\n",
    "            print(\"Setting the age...\")\n",
    "            self._age = age\n",
    "\n",
    "    def category(self):\n",
    "        if self.age < 13:\n",
    "            return \"Kid\"\n",
    "        elif self.age >= 13 and self.age < 18:\n",
    "            return \"Teen\"\n",
    "        elif self.age >= 18 and self.age < 65:\n",
    "            return \"Adult\"\n",
    "        else:\n",
    "            return \"Elderly\""
   ]
  },
  {
   "cell_type": "code",
   "execution_count": 47,
   "id": "229ff541-5b8c-4f46-be43-7d712af704e0",
   "metadata": {},
   "outputs": [
    {
     "name": "stdout",
     "output_type": "stream",
     "text": [
      "Setting the age...\n",
      "Getting the age..\n"
     ]
    },
    {
     "data": {
      "text/plain": [
       "21"
      ]
     },
     "execution_count": 47,
     "metadata": {},
     "output_type": "execute_result"
    }
   ],
   "source": [
    "Kuma = Person(21)\n",
    "Kuma.age"
   ]
  },
  {
   "cell_type": "code",
   "execution_count": null,
   "id": "4ecba20e-b6bc-4382-be70-c90fd9241454",
   "metadata": {},
   "outputs": [],
   "source": []
  }
 ],
 "metadata": {
  "kernelspec": {
   "display_name": "Python 3 (ipykernel)",
   "language": "python",
   "name": "python3"
  },
  "language_info": {
   "codemirror_mode": {
    "name": "ipython",
    "version": 3
   },
   "file_extension": ".py",
   "mimetype": "text/x-python",
   "name": "python",
   "nbconvert_exporter": "python",
   "pygments_lexer": "ipython3",
   "version": "3.9.6"
  }
 },
 "nbformat": 4,
 "nbformat_minor": 5
}
