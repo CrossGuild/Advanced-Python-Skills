{
 "cells": [
  {
   "cell_type": "markdown",
   "id": "35e5f7af-0235-4330-8068-3632ac6f122e",
   "metadata": {},
   "source": [
    "# Lambda functions\n",
    "## Also called annoymous functions because they are unnamed. So tracking error is difficult\n",
    "## Its syntax is: lambda arguments expression\n",
    "## They can take any number of parameters"
   ]
  },
  {
   "cell_type": "code",
   "execution_count": 3,
   "id": "66949a94-19e3-4d83-a15b-5e304fc711ad",
   "metadata": {},
   "outputs": [
    {
     "name": "stdout",
     "output_type": "stream",
     "text": [
      "14\n"
     ]
    }
   ],
   "source": [
    "add = lambda x: x+i\n",
    "i = 5\n",
    "print(add(9))"
   ]
  },
  {
   "cell_type": "code",
   "execution_count": 23,
   "id": "38d068f6-3fd5-4205-aaa9-3846ff497efe",
   "metadata": {},
   "outputs": [],
   "source": [
    "lambda_functions = [lambda x: x+j for j in range(4)]"
   ]
  },
  {
   "cell_type": "code",
   "execution_count": 26,
   "id": "facc7248-e4fa-490d-983c-603eaef97b1d",
   "metadata": {},
   "outputs": [
    {
     "data": {
      "text/plain": [
       "4"
      ]
     },
     "execution_count": 26,
     "metadata": {},
     "output_type": "execute_result"
    }
   ],
   "source": [
    "#  the first element of this list should be lambda x: x+0\n",
    "first_lambda_fuctions = lambda_functions[0]\n",
    "first_lambda_fuctions(1)"
   ]
  },
  {
   "cell_type": "code",
   "execution_count": 27,
   "id": "69eab252-1d95-45df-a216-fc435d3337bd",
   "metadata": {},
   "outputs": [
    {
     "data": {
      "text/plain": [
       "22"
      ]
     },
     "execution_count": 27,
     "metadata": {},
     "output_type": "execute_result"
    }
   ],
   "source": [
    "multiplication = lambda a,b : a*b\n",
    "multiplication(11,2)"
   ]
  }
 ],
 "metadata": {
  "kernelspec": {
   "display_name": "Python 3 (ipykernel)",
   "language": "python",
   "name": "python3"
  },
  "language_info": {
   "codemirror_mode": {
    "name": "ipython",
    "version": 3
   },
   "file_extension": ".py",
   "mimetype": "text/x-python",
   "name": "python",
   "nbconvert_exporter": "python",
   "pygments_lexer": "ipython3",
   "version": "3.9.6"
  }
 },
 "nbformat": 4,
 "nbformat_minor": 5
}
