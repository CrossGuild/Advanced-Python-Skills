{
 "cells": [
  {
   "cell_type": "markdown",
   "id": "9087b877-f2b1-4cd0-8be4-69cbcd013ac2",
   "metadata": {},
   "source": [
    "# Iterables vs Iterators\n",
    "## so far we have used these two words, there is a subtle difference \n",
    "## An iterable is a representation of a series of elements  that can be iterated over.\n",
    "## It does not have any iteration state such as a \"current element .\"\n",
    "## But every iterable can be converted to an iterator by using iter(). Typically an iterable should be able to produce any number of valid iterators.\n",
    "## An iterator is the object with iteration state. It lets you check  if it has more elements using the next() of __next__() and move to the next element"
   ]
  },
  {
   "cell_type": "code",
   "execution_count": 25,
   "id": "857110a2-51e8-4e95-a997-0568068ece23",
   "metadata": {},
   "outputs": [
    {
     "name": "stdout",
     "output_type": "stream",
     "text": [
      "['honda', 'toyota', 'nissan', 'subaru']\n",
      "<list_iterator object at 0x105117ca0>\n"
     ]
    }
   ],
   "source": [
    "cars = ['honda', 'toyota', 'nissan', 'subaru']\n",
    "print(cars)\n",
    "itcars = iter(cars)\n",
    "print(itcars)"
   ]
  },
  {
   "cell_type": "code",
   "execution_count": 23,
   "id": "3434d36a-41b4-48b0-81ea-0f975cb32275",
   "metadata": {},
   "outputs": [
    {
     "data": {
      "text/plain": [
       "'honda'"
      ]
     },
     "execution_count": 23,
     "metadata": {},
     "output_type": "execute_result"
    }
   ],
   "source": [
    "itcars.__next__()"
   ]
  },
  {
   "cell_type": "code",
   "execution_count": 27,
   "id": "976a0bd7-924a-456a-b468-efcc7f5a2bac",
   "metadata": {},
   "outputs": [],
   "source": [
    "while True:\n",
    "    try:\n",
    "        element = next(itcars)\n",
    "        print(element)\n",
    "    except StopIteration:\n",
    "        break\n",
    "    "
   ]
  },
  {
   "cell_type": "code",
   "execution_count": 51,
   "id": "62395959-11a7-4640-a1ab-f9ab4c6eb6e4",
   "metadata": {},
   "outputs": [],
   "source": [
    "class PowersofTwo:\n",
    "    def __init__(self, maximum=0):\n",
    "        self.maximum = maximum\n",
    "    def __iter__(self):\n",
    "        self.n = 0\n",
    "        return self\n",
    "    def __next__(self):\n",
    "        if self.n <= self.maximum:\n",
    "            result = 2**self.n\n",
    "            self.n += 1\n",
    "            return result\n",
    "        else:\n",
    "            raise StopIteration"
   ]
  },
  {
   "cell_type": "code",
   "execution_count": 72,
   "id": "01798da8-b089-4eaf-92d3-045030e8f1af",
   "metadata": {},
   "outputs": [],
   "source": [
    "obj = iter(PowersofTwo(3))"
   ]
  },
  {
   "cell_type": "code",
   "execution_count": 73,
   "id": "fd04f87c-17c7-436a-abd0-6a0637870fe8",
   "metadata": {},
   "outputs": [
    {
     "data": {
      "text/plain": [
       "1"
      ]
     },
     "execution_count": 73,
     "metadata": {},
     "output_type": "execute_result"
    }
   ],
   "source": [
    "next(obj)"
   ]
  },
  {
   "cell_type": "code",
   "execution_count": null,
   "id": "eb6b9812-65c2-408a-9d0e-5d47a855874e",
   "metadata": {},
   "outputs": [],
   "source": []
  },
  {
   "cell_type": "code",
   "execution_count": null,
   "id": "dc32022d-e006-455a-b79e-76ad6d9261dd",
   "metadata": {},
   "outputs": [],
   "source": []
  }
 ],
 "metadata": {
  "kernelspec": {
   "display_name": "Python 3 (ipykernel)",
   "language": "python",
   "name": "python3"
  },
  "language_info": {
   "codemirror_mode": {
    "name": "ipython",
    "version": 3
   },
   "file_extension": ".py",
   "mimetype": "text/x-python",
   "name": "python",
   "nbconvert_exporter": "python",
   "pygments_lexer": "ipython3",
   "version": "3.9.6"
  }
 },
 "nbformat": 4,
 "nbformat_minor": 5
}
