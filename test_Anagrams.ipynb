{
 "cells": [
  {
   "cell_type": "markdown",
   "id": "bd80f50b-41ee-49f1-affb-8a360d836a43",
   "metadata": {},
   "source": [
    "#Anagrams\n",
    "## You will write a function that receives two arguments: a word and a list of words and stay with all of those words in the list that are anagrams of the word passed. If you don't remember what an anagram is, look at this article: Anagram\n",
    "\n",
    "## Input:\n",
    "## First argument: \"code\"\n",
    "## Second argument: [\"code\", \"deco\", \"ecod\", \"first\", \"strif\", \"frist\"]\n",
    "## Output:\n",
    "## [\"code\", \"deco\", \"ecod\"]\n",
    "### HINT: You should clearly use the filter function and the sorted function."
   ]
  },
  {
   "cell_type": "code",
   "execution_count": 4,
   "id": "b98c2f60-dd08-4a7c-96a3-a78ce4544f23",
   "metadata": {},
   "outputs": [],
   "source": [
    "def find_anagrams(word, list_of_words):\n",
    "    sorted_word = sorted(word)\n",
    "    print(sorted_word)\n",
    "    # code -> cdeo\n",
    "    return list(filter(lambda x: sorted(x) == sorted_word, list_of_words))"
   ]
  },
  {
   "cell_type": "code",
   "execution_count": 5,
   "id": "7d06c612-4a19-4fef-8610-042024db12a1",
   "metadata": {},
   "outputs": [
    {
     "name": "stdout",
     "output_type": "stream",
     "text": [
      "['c', 'd', 'e', 'o']\n"
     ]
    },
    {
     "data": {
      "text/plain": [
       "['code', 'deco', 'ecod']"
      ]
     },
     "execution_count": 5,
     "metadata": {},
     "output_type": "execute_result"
    }
   ],
   "source": [
    "find_anagrams(\"code\",[\"code\", \"deco\", \"ecod\", \"first\", \"strif\", \"frist\"])"
   ]
  }
 ],
 "metadata": {
  "kernelspec": {
   "display_name": "Python 3 (ipykernel)",
   "language": "python",
   "name": "python3"
  },
  "language_info": {
   "codemirror_mode": {
    "name": "ipython",
    "version": 3
   },
   "file_extension": ".py",
   "mimetype": "text/x-python",
   "name": "python",
   "nbconvert_exporter": "python",
   "pygments_lexer": "ipython3",
   "version": "3.9.6"
  }
 },
 "nbformat": 4,
 "nbformat_minor": 5
}
